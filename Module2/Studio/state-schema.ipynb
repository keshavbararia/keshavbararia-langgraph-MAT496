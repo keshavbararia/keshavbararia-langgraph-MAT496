{
 "cells": [
  {
   "cell_type": "markdown",
   "id": "256d3948",
   "metadata": {},
   "source": [
    "[![Open in Colab](https://colab.research.google.com/assets/colab-badge.svg)](https://colab.research.google.com/github/langchain-ai/langchain-academy/blob/main/module-2/state-schema.ipynb) [![Open in LangChain Academy](https://cdn.prod.website-files.com/65b8cd72835ceeacd4449a53/66e9eba12c7b7688aa3dbb5e_LCA-badge-green.svg)](https://academy.langchain.com/courses/take/intro-to-langgraph/lessons/58239426-lesson-1-state-schema)"
   ]
  },
  {
   "cell_type": "markdown",
   "id": "f118fabe-37b7-4cd4-b7a4-9b0fc3875ca3",
   "metadata": {},
   "source": [
    "# State Schema \n",
    "\n",
    "## Review\n",
    "\n",
    "In module 1, we laid the foundations! We built up to an agent that can: \n",
    "\n",
    "* `act` - let the model call specific tools \n",
    "* `observe` - pass the tool output back to the model \n",
    "* `reason` - let the model reason about the tool output to decide what to do next (e.g., call another tool or just respond directly)\n",
    "* `persist state` - use an in memory checkpointer to support long-running conversations with interruptions\n",
    " \n",
    "And, we showed how to serve it locally in LangGraph Studio or deploy it with LangGraph Cloud. \n",
    "\n",
    "## Goals\n",
    "\n",
    "In this module, we're going to build a deeper understanding of both state and memory.\n",
    "\n",
    "First, let's review a few different ways to define your state schema."
   ]
  },
  {
   "cell_type": "code",
   "id": "b9a896f4-8509-456a-9a25-46532342f459",
   "metadata": {
    "ExecuteTime": {
     "end_time": "2025-10-21T16:23:10.303055Z",
     "start_time": "2025-10-21T16:23:07.995992Z"
    }
   },
   "source": [
    "%%capture --no-stderr\n",
    "%pip install --quiet -U langgraph"
   ],
   "outputs": [
    {
     "name": "stderr",
     "output_type": "stream",
     "text": [
      "\n",
      "[notice] A new release of pip is available: 25.1.1 -> 25.2\n",
      "[notice] To update, run: python.exe -m pip install --upgrade pip\n"
     ]
    }
   ],
   "execution_count": 13
  },
  {
   "cell_type": "markdown",
   "id": "9f7927b0-9909-4e54-b997-ac49c1aeaa09",
   "metadata": {},
   "source": [
    "## Schema\n",
    "\n",
    "When we define a LangGraph `StateGraph`, we use a [state schema](https://langchain-ai.github.io/langgraph/concepts/low_level/#state).\n",
    "\n",
    "The state schema represents the structure and types of data that our graph will use.\n",
    "\n",
    "All nodes are expected to communicate with that schema.\n",
    "\n",
    "LangGraph offers flexibility in how you define your state schema, accommodating various Python [types](https://docs.python.org/3/library/stdtypes.html#type-objects) and validation approaches!\n",
    "\n",
    "## TypedDict\n",
    "\n",
    "As we mentioned in Module 1, we can use the `TypedDict` class from python's `typing` module.\n",
    "\n",
    "It allows you to specify keys and their corresponding value types.\n",
    " \n",
    "But, note that these are type hints. \n",
    "\n",
    "They can be used by static type checkers (like [mypy](https://github.com/python/mypy)) or IDEs to catch potential type-related errors before the code is run. \n",
    "\n",
    "But they are not enforced at runtime!"
   ]
  },
  {
   "cell_type": "code",
   "id": "eedb39f0-af0f-4794-bc16-65980d278b59",
   "metadata": {
    "ExecuteTime": {
     "end_time": "2025-10-21T16:23:10.343366Z",
     "start_time": "2025-10-21T16:23:10.337594Z"
    }
   },
   "source": [
    "from typing_extensions import TypedDict\n",
    "\n",
    "class TypedDictState(TypedDict):\n",
    "    foo: str\n",
    "    bar: str"
   ],
   "outputs": [],
   "execution_count": 14
  },
  {
   "cell_type": "markdown",
   "id": "d5a71661-1086-455f-a5e0-a6d104034a95",
   "metadata": {},
   "source": [
    "For more specific value constraints, you can use things like the `Literal` type hint.\n",
    "\n",
    "Here, `mood` can only be either \"happy\" or \"sad\"."
   ]
  },
  {
   "cell_type": "code",
   "id": "4ad9749c-b127-433f-baa3-189a9349e9f6",
   "metadata": {
    "ExecuteTime": {
     "end_time": "2025-10-21T16:23:10.363549Z",
     "start_time": "2025-10-21T16:23:10.357100Z"
    }
   },
   "source": [
    "from typing import Literal\n",
    "\n",
    "class TypedDictState(TypedDict):\n",
    "    name: str\n",
    "    mood: Literal[\"happy\",\"sad\",\"angry\"]"
   ],
   "outputs": [],
   "execution_count": 15
  },
  {
   "cell_type": "markdown",
   "id": "c1a9152d-1728-4a67-9e23-1ef622525047",
   "metadata": {},
   "source": [
    "We can use our defined state class (e.g., here `TypedDictState`) in LangGraph by simply passing it to `StateGraph`.\n",
    "\n",
    "And, we can think about each state key as just a \"channel\" in our graph. \n",
    "\n",
    "As discussed in Module 1, we overwrite the value of a specified key or \"channel\" in each node."
   ]
  },
  {
   "cell_type": "code",
   "id": "2f7a0d6d-f70b-44ed-86e3-7cdb39873ba4",
   "metadata": {
    "ExecuteTime": {
     "end_time": "2025-10-21T16:23:10.873503Z",
     "start_time": "2025-10-21T16:23:10.390322Z"
    }
   },
   "source": [
    "import random\n",
    "from IPython.display import Image, display\n",
    "from langgraph.graph import StateGraph, START, END\n",
    "\n",
    "def node_1(state):\n",
    "    print(\"---Node 1---\")\n",
    "    return {\"name\": state['name'] + \" is ... \"}\n",
    "\n",
    "def node_2(state):\n",
    "    print(\"---Node 2---\")\n",
    "    return {\"mood\": \"happy\"}\n",
    "\n",
    "def node_3(state):\n",
    "    print(\"---Node 3---\")\n",
    "    return {\"mood\": \"sad\"}\n",
    "\n",
    "def node_4(state):\n",
    "    print(\"---Node 4---\")\n",
    "    return {\"mood\": \"angry\"}\n",
    "\n",
    "def decide_mood(state) -> Literal[\"node_2\", \"node_3\",\"node_4\"]:\n",
    "        \n",
    "    if random.random() < 0.33:\n",
    "\n",
    "        return \"node_2\"\n",
    "    elif random.random() < 0.33:\n",
    "\n",
    "        return \"node_3\"\n",
    "    \n",
    "    return \"node_4\"\n",
    "\n",
    "# Build graph\n",
    "builder = StateGraph(TypedDictState)\n",
    "builder.add_node(\"node_1\", node_1)\n",
    "builder.add_node(\"node_2\", node_2)\n",
    "builder.add_node(\"node_3\", node_3)\n",
    "builder.add_node(\"node_4\", node_4)\n",
    "\n",
    "\n",
    "# Logic\n",
    "builder.add_edge(START, \"node_1\")\n",
    "builder.add_conditional_edges(\"node_1\", decide_mood)\n",
    "builder.add_edge(\"node_2\", END)\n",
    "builder.add_edge(\"node_3\", END)\n",
    "builder.add_edge(\"node_4\", END)\n",
    "\n",
    "\n",
    "# Add\n",
    "graph = builder.compile()\n",
    "\n",
    "# View\n",
    "display(Image(graph.get_graph().draw_mermaid_png()))"
   ],
   "outputs": [
    {
     "data": {
      "image/png": "[encoded data removed]",
      "text/plain": [
       "<IPython.core.display.Image object>"
      ]
     },
     "metadata": {},
     "output_type": "display_data"
    }
   ],
   "execution_count": 16
  },
  {
   "cell_type": "markdown",
   "id": "724bb640-2b0e-46c1-9416-b5bcdb9c17c8",
   "metadata": {},
   "source": [
    "Because our state is a dict, we simply invoke the graph with a dict to set an initial value of the `name` key in our state."
   ]
  },
  {
   "cell_type": "code",
   "id": "74e09d32-6a08-4250-b19a-1f701828829d",
   "metadata": {
    "ExecuteTime": {
     "end_time": "2025-10-21T16:23:10.887436Z",
     "start_time": "2025-10-21T16:23:10.881309Z"
    }
   },
   "source": [
    "graph.invoke({\"name\":\"Lance\"})"
   ],
   "outputs": [
    {
     "name": "stdout",
     "output_type": "stream",
     "text": [
      "---Node 1---\n",
      "---Node 4---\n"
     ]
    },
    {
     "data": {
      "text/plain": [
       "{'name': 'Lance is ... ', 'mood': 'angry'}"
      ]
     },
     "execution_count": 17,
     "metadata": {},
     "output_type": "execute_result"
    }
   ],
   "execution_count": 17
  },
  {
   "cell_type": "markdown",
   "id": "70cc5368-18b8-49c7-b561-41888b092311",
   "metadata": {},
   "source": [
    "## Dataclass\n",
    "\n",
    "Python's [dataclasses](https://docs.python.org/3/library/dataclasses.html) provide [another way to define structured data](https://www.datacamp.com/tutorial/python-data-classes).\n",
    "\n",
    "Dataclasses offer a concise syntax for creating classes that are primarily used to store data."
   ]
  },
  {
   "cell_type": "code",
   "id": "d576fc2c-350b-42ad-89e5-f93ae102dbf8",
   "metadata": {
    "ExecuteTime": {
     "end_time": "2025-10-21T16:23:10.904282Z",
     "start_time": "2025-10-21T16:23:10.897152Z"
    }
   },
   "source": [
    "from dataclasses import dataclass\n",
    "\n",
    "@dataclass\n",
    "class DataclassState:\n",
    "    name: str\n",
    "    mood: Literal[\"happy\",\"sad\",\"angry\"]"
   ],
   "outputs": [],
   "execution_count": 18
  },
  {
   "cell_type": "markdown",
   "id": "64482b93-3c8f-4a30-925f-9be64e4b8b6f",
   "metadata": {},
   "source": [
    "To access the keys of a `dataclass`, we just need to modify the subscripting used in `node_1`: \n",
    "\n",
    "* We use `state.name` for the `dataclass` state rather than `state[\"name\"]` for the `TypedDict` above\n",
    "\n",
    "You'll notice something a bit odd: in each node, we still return a dictionary to perform the state updates.\n",
    " \n",
    "This is possible because LangGraph stores each key of your state object separately.\n",
    "\n",
    "The object returned by the node only needs to have keys (attributes) that match those in the state!\n",
    "\n",
    "In this case, the `dataclass` has key `name` so we can update it by passing a dict from our node, just as we did when state was a `TypedDict`."
   ]
  },
  {
   "cell_type": "code",
   "id": "1e1eda69-916f-4f6e-b400-6e65f73d8716",
   "metadata": {
    "ExecuteTime": {
     "end_time": "2025-10-21T16:23:11.397575Z",
     "start_time": "2025-10-21T16:23:10.915221Z"
    }
   },
   "source": [
    "def node_1(state):\n",
    "    print(\"---Node 1---\")\n",
    "    return {\"name\": state.name + \" is ... \"}\n",
    "\n",
    "# Build graph\n",
    "builder = StateGraph(DataclassState)\n",
    "builder.add_node(\"node_1\", node_1)\n",
    "builder.add_node(\"node_2\", node_2)\n",
    "builder.add_node(\"node_3\", node_3)\n",
    "builder.add_node(\"node_4\", node_4)\n",
    "\n",
    "\n",
    "# Logic\n",
    "builder.add_edge(START, \"node_1\")\n",
    "builder.add_conditional_edges(\"node_1\", decide_mood)\n",
    "builder.add_edge(\"node_2\", END)\n",
    "builder.add_edge(\"node_3\", END)\n",
    "builder.add_edge(\"node_4\", END)\n",
    "\n",
    "\n",
    "# Add\n",
    "graph = builder.compile()\n",
    "\n",
    "# View\n",
    "display(Image(graph.get_graph().draw_mermaid_png()))"
   ],
   "outputs": [
    {
     "data": {
      "image/png": "[encoded data removed]",
      "text/plain": [
       "<IPython.core.display.Image object>"
      ]
     },
     "metadata": {},
     "output_type": "display_data"
    }
   ],
   "execution_count": 19
  },
  {
   "cell_type": "markdown",
   "id": "06beb50a-4878-4d7e-ac6c-d60a0f417eb3",
   "metadata": {},
   "source": [
    "We invoke with a `dataclass` to set the initial values of each key / channel in our state!"
   ]
  },
  {
   "cell_type": "code",
   "id": "8c042325-e93d-43e1-9ac7-a0e20c2fb08d",
   "metadata": {
    "ExecuteTime": {
     "end_time": "2025-10-21T16:23:11.414097Z",
     "start_time": "2025-10-21T16:23:11.405398Z"
    }
   },
   "source": [
    "graph.invoke(DataclassState(name=\"Lance\",mood=\"sad\"))"
   ],
   "outputs": [
    {
     "name": "stdout",
     "output_type": "stream",
     "text": [
      "---Node 1---\n",
      "---Node 2---\n"
     ]
    },
    {
     "data": {
      "text/plain": [
       "{'name': 'Lance is ... ', 'mood': 'happy'}"
      ]
     },
     "execution_count": 20,
     "metadata": {},
     "output_type": "execute_result"
    }
   ],
   "execution_count": 20
  },
  {
   "cell_type": "markdown",
   "id": "2405e49b-e786-4bf9-ac85-1fb941d01bcd",
   "metadata": {},
   "source": [
    "## Pydantic\n",
    "\n",
    "As mentioned, `TypedDict` and `dataclasses` provide type hints but they don't enforce types at runtime. \n",
    " \n",
    "This means you could potentially assign invalid values without raising an error!\n",
    "\n",
    "For example, we can set `mood` to `mad` even though our type hint specifies `mood: list[Literal[\"happy\",\"sad\"]]`."
   ]
  },
  {
   "cell_type": "code",
   "id": "522fcc76-abf7-452a-9d7b-000e06942d94",
   "metadata": {
    "ExecuteTime": {
     "end_time": "2025-10-21T16:23:11.429581Z",
     "start_time": "2025-10-21T16:23:11.424228Z"
    }
   },
   "source": [
    "dataclass_instance = DataclassState(name=\"Lance\", mood=\"mad\")"
   ],
   "outputs": [],
   "execution_count": 21
  },
  {
   "cell_type": "markdown",
   "id": "4f095c3a-96b5-4318-9303-20424b4455e9",
   "metadata": {},
   "source": [
    "[Pydantic](https://docs.pydantic.dev/latest/api/base_model/) is a data validation and settings management library using Python type annotations. \n",
    "\n",
    "It's particularly well-suited [for defining state schemas in LangGraph](https://langchain-ai.github.io/langgraph/how-tos/state-model/) due to its validation capabilities.\n",
    "\n",
    "Pydantic can perform validation to check whether data conforms to the specified types and constraints at runtime."
   ]
  },
  {
   "cell_type": "code",
   "id": "62e8720e-217f-4b98-837a-af45c3fa577f",
   "metadata": {
    "ExecuteTime": {
     "end_time": "2025-10-21T16:23:11.452699Z",
     "start_time": "2025-10-21T16:23:11.442775Z"
    }
   },
   "source": [
    "from pydantic import BaseModel, field_validator, ValidationError\n",
    "\n",
    "class PydanticState(BaseModel):\n",
    "    name: str\n",
    "    mood: str # \"happy\" or \"sad\" \n",
    "\n",
    "    @field_validator('mood')\n",
    "    @classmethod\n",
    "    def validate_mood(cls, value):\n",
    "        if value not in [\"happy\", \"sad\",\"angry\"]:\n",
    "            raise ValueError(\"Each mood must be either 'happy' or 'sad' or 'angry'\")\n",
    "        return value\n",
    "\n",
    "try:\n",
    "    state = PydanticState(name=\"John Doe\", mood=\"mad\")\n",
    "except ValidationError as e:\n",
    "    print(\"Validation Error:\", e)"
   ],
   "outputs": [
    {
     "name": "stdout",
     "output_type": "stream",
     "text": [
      "Validation Error: 1 validation error for PydanticState\n",
      "mood\n",
      "  Value error, Each mood must be either 'happy' or 'sad' or 'angry' [type=value_error, input_value='mad', input_type=str]\n",
      "    For further information visit https://errors.pydantic.dev/2.12/v/value_error\n"
     ]
    }
   ],
   "execution_count": 22
  },
  {
   "cell_type": "markdown",
   "id": "f29913ca-0295-48eb-af4e-cae515dd9a9c",
   "metadata": {},
   "source": [
    "We can use `PydanticState` in our graph seamlessly. "
   ]
  },
  {
   "cell_type": "code",
   "id": "91db3393-b7f8-46e5-8129-0e7539b2804c",
   "metadata": {
    "ExecuteTime": {
     "end_time": "2025-10-21T16:23:11.934271Z",
     "start_time": "2025-10-21T16:23:11.474073Z"
    }
   },
   "source": [
    "# Build graph\n",
    "builder = StateGraph(PydanticState)\n",
    "builder.add_node(\"node_1\", node_1)\n",
    "builder.add_node(\"node_2\", node_2)\n",
    "builder.add_node(\"node_3\", node_3)\n",
    "builder.add_node(\"node_4\", node_4)\n",
    "\n",
    "# Logic\n",
    "builder.add_edge(START, \"node_1\")\n",
    "builder.add_conditional_edges(\"node_1\", decide_mood)\n",
    "builder.add_edge(\"node_2\", END)\n",
    "builder.add_edge(\"node_3\", END)\n",
    "builder.add_edge(\"node_4\", END)\n",
    "\n",
    "\n",
    "# Add\n",
    "graph = builder.compile()\n",
    "\n",
    "# View\n",
    "display(Image(graph.get_graph().draw_mermaid_png()))"
   ],
   "outputs": [
    {
     "data": {
      "image/png": "[encoded data removed]",
      "text/plain": [
       "<IPython.core.display.Image object>"
      ]
     },
     "metadata": {},
     "output_type": "display_data"
    }
   ],
   "execution_count": 23
  },
  {
   "cell_type": "code",
   "id": "e96c78be-b483-4fa4-949b-62d4274e97ac",
   "metadata": {
    "ExecuteTime": {
     "end_time": "2025-10-21T16:23:11.955295Z",
     "start_time": "2025-10-21T16:23:11.945432Z"
    }
   },
   "source": [
    "graph.invoke(PydanticState(name=\"Lance\",mood=\"sad\"))"
   ],
   "outputs": [
    {
     "name": "stdout",
     "output_type": "stream",
     "text": [
      "---Node 1---\n",
      "---Node 2---\n"
     ]
    },
    {
     "data": {
      "text/plain": [
       "{'name': 'Lance is ... ', 'mood': 'happy'}"
      ]
     },
     "execution_count": 24,
     "metadata": {},
     "output_type": "execute_result"
    }
   ],
   "execution_count": 24
  },
  {
   "cell_type": "code",
   "id": "8119232a-7d56-4abc-b0ef-18bf5f0cc9fd",
   "metadata": {
    "ExecuteTime": {
     "end_time": "2025-10-21T16:23:11.971533Z",
     "start_time": "2025-10-21T16:23:11.966727Z"
    }
   },
   "source": [],
   "outputs": [],
   "execution_count": null
  }
 ],
 "metadata": {
  "kernelspec": {
   "display_name": "Python 3 (ipykernel)",
   "language": "python",
   "name": "python3"
  },
  "language_info": {
   "codemirror_mode": {
    "name": "ipython",
    "version": 3
   },
   "file_extension": ".py",
   "mimetype": "text/x-python",
   "name": "python",
   "nbconvert_exporter": "python",
   "pygments_lexer": "ipython3",
   "version": "3.12.1"
  }
 },
 "nbformat": 4,
 "nbformat_minor": 5
}
