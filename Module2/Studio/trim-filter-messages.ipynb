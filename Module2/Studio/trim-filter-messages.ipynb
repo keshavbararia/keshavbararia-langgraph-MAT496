{
 "cells": [
  {
   "metadata": {},
   "cell_type": "markdown",
   "source": "[![Open in Colab](https://colab.research.google.com/assets/colab-badge.svg)](https://colab.research.google.com/github/langchain-ai/langchain-academy/blob/main/module-2/trim-filter-messages.ipynb) [![Open in LangChain Academy](https://cdn.prod.website-files.com/65b8cd72835ceeacd4449a53/66e9eba12c7b7688aa3dbb5e_LCA-badge-green.svg)](https://academy.langchain.com/courses/take/intro-to-langgraph/lessons/58239435-lesson-4-trim-and-filter-messages)",
   "id": "99df6276efd1dfdb"
  },
  {
   "metadata": {},
   "cell_type": "markdown",
   "source": [
    "# Filtering and trimming messages\n",
    "\n",
    "## Review\n",
    "\n",
    "Now, we have a deeper understanding of a few things: \n",
    "\n",
    "* How to customize the graph state schema\n",
    "* How to define custom state reducers\n",
    "* How to use multiple graph state schemas\n",
    "\n",
    "## Goals\n",
    "\n",
    "Now, we can start using these concepts with models in LangGraph!\n",
    " \n",
    "In the next few sessions, we'll build towards a chatbot that has long-term memory.\n",
    "\n",
    "Because our chatbot will use messages, let's first talk a bit more about advanced ways to work with messages in graph state."
   ],
   "id": "f1959a7e6158ec5"
  },
  {
   "metadata": {
    "ExecuteTime": {
     "end_time": "2025-10-23T10:19:52.708709Z",
     "start_time": "2025-10-23T10:19:50.584078Z"
    }
   },
   "cell_type": "code",
   "source": [
    "%%capture --no-stderr\n",
    "%pip install --quiet -U langchain_core langgraph langchain_openai"
   ],
   "id": "2bdd63280b278c68",
   "outputs": [
    {
     "name": "stderr",
     "output_type": "stream",
     "text": [
      "\n",
      "[notice] A new release of pip is available: 25.1.1 -> 25.2\n",
      "[notice] To update, run: python.exe -m pip install --upgrade pip\n"
     ]
    }
   ],
   "execution_count": 72
  },
  {
   "metadata": {
    "ExecuteTime": {
     "end_time": "2025-10-23T10:19:52.720098Z",
     "start_time": "2025-10-23T10:19:52.715070Z"
    }
   },
   "cell_type": "code",
   "source": [
    "import os, getpass\n",
    "\n",
    "def _set_env(var: str):\n",
    "    if not os.environ.get(var):\n",
    "        os.environ[var] = getpass.getpass(f\"{var}: \")\n",
    "\n",
    "_set_env(\"OPENAI_API_KEY\")"
   ],
   "id": "9b52963ea4e5cde2",
   "outputs": [],
   "execution_count": 73
  },
  {
   "metadata": {},
   "cell_type": "markdown",
   "source": [
    "We'll use [LangSmith](https://docs.smith.langchain.com/) for [tracing](https://docs.smith.langchain.com/concepts/tracing).\n",
    "\n",
    "We'll log to a project, `langchain-academy`. "
   ],
   "id": "4174b6a70f9b6caa"
  },
  {
   "metadata": {
    "ExecuteTime": {
     "end_time": "2025-10-23T10:19:52.736299Z",
     "start_time": "2025-10-23T10:19:52.727845Z"
    }
   },
   "cell_type": "code",
   "source": [
    "_set_env(\"LANGSMITH_API_KEY\")\n",
    "os.environ[\"LANGSMITH_TRACING\"] = \"true\"\n",
    "os.environ[\"LANGSMITH_PROJECT\"] = \"langchain-academy\""
   ],
   "id": "bb914a2ebea387c0",
   "outputs": [],
   "execution_count": 74
  },
  {
   "metadata": {},
   "cell_type": "markdown",
   "source": [
    "## Messages as state\n",
    "\n",
    "First, let's define some messages."
   ],
   "id": "c69e980bbbe79d99"
  },
  {
   "metadata": {
    "ExecuteTime": {
     "end_time": "2025-10-23T10:19:52.748573Z",
     "start_time": "2025-10-23T10:19:52.743061Z"
    }
   },
   "cell_type": "code",
   "source": [
    "from pprint import pprint\n",
    "from langchain_core.messages import AIMessage, HumanMessage\n",
    "messages = [AIMessage(f\"So you said you were researching land mammals?\", name=\"Bot\")]\n",
    "messages.append(HumanMessage(f\"Yes, I know about elephants. But what others should I learn about?\", name=\"Keshav\"))\n",
    "\n",
    "for m in messages:\n",
    "    m.pretty_print()"
   ],
   "id": "dc7aed384b2ff5a4",
   "outputs": [
    {
     "name": "stdout",
     "output_type": "stream",
     "text": [
      "==================================\u001B[1m Ai Message \u001B[0m==================================\n",
      "Name: Bot\n",
      "\n",
      "So you said you were researching land mammals?\n",
      "================================\u001B[1m Human Message \u001B[0m=================================\n",
      "Name: Keshav\n",
      "\n",
      "Yes, I know about elephants. But what others should I learn about?\n"
     ]
    }
   ],
   "execution_count": 75
  },
  {
   "metadata": {},
   "cell_type": "markdown",
   "source": "Recall we can pass them to a chat model.",
   "id": "4c41509eafc85d1e"
  },
  {
   "metadata": {
    "ExecuteTime": {
     "end_time": "2025-10-23T10:20:00.715733Z",
     "start_time": "2025-10-23T10:19:52.777793Z"
    }
   },
   "cell_type": "code",
   "source": [
    "from langchain_openai import ChatOpenAI\n",
    "llm = ChatOpenAI(model=\"gpt-4o\")\n",
    "llm.invoke(messages)"
   ],
   "id": "f68270531e32cdc1",
   "outputs": [
    {
     "data": {
      "text/plain": [
       "AIMessage(content='In addition to elephants, there are several other fascinating land mammals worth learning about:\\n\\n1. **Lions** - Known as the \"king of the jungle,\" lions are social big cats that live in prides and are primarily found in Africa.\\n\\n2. **Tigers** - These are the largest wild cats and have distinctive stripes. They are native to Asia.\\n\\n3. **Giraffes** - The tallest land animals, giraffes are known for their long necks and legs and are native to African savannas.\\n\\n4. **Rhinoceroses** - Large, thick-skinned herbivores with one or two horns on their snouts, they are found in Africa and Asia.\\n\\n5. **Wolves** - Social animals that live in packs, wolves are skilled hunters and are found across much of the Northern Hemisphere.\\n\\n6. **Bison** - Large herbivores that once roamed in massive herds across North America and Europe.\\n\\n7. **Bears** - Found in various parts of the world, including North America, Europe, and Asia; notable species include grizzly bears and polar bears.\\n\\n8. **Kangaroos** - Marsupials native to Australia, known for their powerful hind legs and ability to hop long distances.\\n\\n9. **Gorillas** - The largest primates, gorillas are critically endangered and primarily found in equatorial Africa.\\n\\n10. **Pandas** - Known for their distinctive black and white coloring, giant pandas primarily eat bamboo and are native to China.\\n\\nEach of these animals has unique characteristics, behaviors, and habitats that make them interesting to study.', additional_kwargs={'refusal': None}, response_metadata={'token_usage': {'completion_tokens': 328, 'prompt_tokens': 41, 'total_tokens': 369, 'completion_tokens_details': {'accepted_prediction_tokens': 0, 'audio_tokens': 0, 'reasoning_tokens': 0, 'rejected_prediction_tokens': 0}, 'prompt_tokens_details': {'audio_tokens': 0, 'cached_tokens': 0}}, 'model_provider': 'openai', 'model_name': 'gpt-4o-2024-08-06', 'system_fingerprint': 'fp_65564d8ba5', 'id': 'chatcmpl-CTmi9OUtKi8vVRNCUo621dPcU0C9E', 'service_tier': 'default', 'finish_reason': 'stop', 'logprobs': None}, id='lc_run--7358bf1e-c231-4e35-be28-1df47fee60c5-0', usage_metadata={'input_tokens': 41, 'output_tokens': 328, 'total_tokens': 369, 'input_token_details': {'audio': 0, 'cache_read': 0}, 'output_token_details': {'audio': 0, 'reasoning': 0}})"
      ]
     },
     "execution_count": 76,
     "metadata": {},
     "output_type": "execute_result"
    }
   ],
   "execution_count": 76
  },
  {
   "metadata": {
    "ExecuteTime": {
     "end_time": "2025-10-23T10:20:02.757516Z",
     "start_time": "2025-10-23T10:20:00.721575Z"
    }
   },
   "cell_type": "code",
   "source": [
    "from langchain_openai import ChatOpenAI\n",
    "llm = ChatOpenAI(model=\"gpt-3.5-turbo\")\n",
    "llm.invoke(messages)"
   ],
   "id": "fefae8b83990f57f",
   "outputs": [
    {
     "data": {
      "text/plain": [
       "AIMessage(content='There are many different types of land mammals aside from elephants that you can research. Some examples include lions, tigers, giraffes, zebras, rhinoceroses, hippopotamuses, cheetahs, wolves, bears, and many more. Each of these animals has unique characteristics and behaviors that make them fascinating to study.', additional_kwargs={'refusal': None}, response_metadata={'token_usage': {'completion_tokens': 71, 'prompt_tokens': 41, 'total_tokens': 112, 'completion_tokens_details': {'accepted_prediction_tokens': 0, 'audio_tokens': 0, 'reasoning_tokens': 0, 'rejected_prediction_tokens': 0}, 'prompt_tokens_details': {'audio_tokens': 0, 'cached_tokens': 0}}, 'model_provider': 'openai', 'model_name': 'gpt-3.5-turbo-0125', 'system_fingerprint': None, 'id': 'chatcmpl-CTmiHE25gtDj4lxoQyc2YGWAh8dnR', 'service_tier': 'default', 'finish_reason': 'stop', 'logprobs': None}, id='lc_run--7959c412-1139-4883-a082-6d2647d9ee24-0', usage_metadata={'input_tokens': 41, 'output_tokens': 71, 'total_tokens': 112, 'input_token_details': {'audio': 0, 'cache_read': 0}, 'output_token_details': {'audio': 0, 'reasoning': 0}})"
      ]
     },
     "execution_count": 77,
     "metadata": {},
     "output_type": "execute_result"
    }
   ],
   "execution_count": 77
  },
  {
   "metadata": {},
   "cell_type": "markdown",
   "source": "We can run our chat model in a simple graph with `MessagesState`.",
   "id": "2ef4e2d425f7f59f"
  },
  {
   "metadata": {
    "ExecuteTime": {
     "end_time": "2025-10-23T10:20:03.337992Z",
     "start_time": "2025-10-23T10:20:02.760616Z"
    }
   },
   "cell_type": "code",
   "source": [
    "from IPython.display import Image, display\n",
    "from langgraph.graph import MessagesState\n",
    "from langgraph.graph import StateGraph, START, END\n",
    "\n",
    "# Node\n",
    "def chat_model_node(state: MessagesState):\n",
    "    return {\"messages\": llm.invoke(state[\"messages\"])}\n",
    "\n",
    "# Build graph\n",
    "builder = StateGraph(MessagesState)\n",
    "builder.add_node(\"chat_model\", chat_model_node)\n",
    "builder.add_edge(START, \"chat_model\")\n",
    "builder.add_edge(\"chat_model\", END)\n",
    "graph = builder.compile()\n",
    "\n",
    "# View\n",
    "display(Image(graph.get_graph().draw_mermaid_png()))"
   ],
   "id": "cad00841f342d3f2",
   "outputs": [
    {
     "data": {
      "image/png": "[encoded data removed]",
      "text/plain": [
       "<IPython.core.display.Image object>"
      ]
     },
     "metadata": {},
     "output_type": "display_data"
    }
   ],
   "execution_count": 78
  },
  {
   "metadata": {
    "ExecuteTime": {
     "end_time": "2025-10-23T10:20:04.499371Z",
     "start_time": "2025-10-23T10:20:03.343231Z"
    }
   },
   "cell_type": "code",
   "source": [
    "output = graph.invoke({'messages': messages})\n",
    "for m in output['messages']:\n",
    "    m.pretty_print()"
   ],
   "id": "5b31c0bdee04bae6",
   "outputs": [
    {
     "name": "stdout",
     "output_type": "stream",
     "text": [
      "==================================\u001B[1m Ai Message \u001B[0m==================================\n",
      "Name: Bot\n",
      "\n",
      "So you said you were researching land mammals?\n",
      "================================\u001B[1m Human Message \u001B[0m=================================\n",
      "Name: Keshav\n",
      "\n",
      "Yes, I know about elephants. But what others should I learn about?\n",
      "==================================\u001B[1m Ai Message \u001B[0m==================================\n",
      "\n",
      "There are many interesting land mammals that you could research, depending on your interests. Some popular ones include lions, tigers, giraffes, zebras, rhinoceroses, hippos, bears, wolves, and cheetahs. You could also explore lesser-known species like pangolins, okapis, maned wolves, and quokkas. Each species has unique characteristics, behaviors, and features that make them fascinating to study.\n"
     ]
    }
   ],
   "execution_count": 79
  },
  {
   "metadata": {},
   "cell_type": "markdown",
   "source": [
    "## Reducer\n",
    "\n",
    "A practical challenge when working with messages is managing long-running conversations. \n",
    "\n",
    "Long-running conversations result in high token usage and latency if we are not careful, because we pass a growing list of messages to the model.\n",
    "\n",
    "We have a few ways to address this.\n",
    "\n",
    "First, recall the trick we saw using `RemoveMessage` and the `add_messages` reducer."
   ],
   "id": "6453d51608efb629"
  },
  {
   "metadata": {
    "ExecuteTime": {
     "end_time": "2025-10-23T10:20:04.931404Z",
     "start_time": "2025-10-23T10:20:04.505657Z"
    }
   },
   "cell_type": "code",
   "source": [
    "from langchain_core.messages import RemoveMessage\n",
    "\n",
    "# Nodes\n",
    "def filter_messages(state: MessagesState):\n",
    "    # Delete all but the 2 most recent messages\n",
    "    delete_messages = [RemoveMessage(id=m.id) for m in state[\"messages\"][:-2]]\n",
    "    return {\"messages\": delete_messages}\n",
    "\n",
    "def chat_model_node(state: MessagesState):    \n",
    "    return {\"messages\": [llm.invoke(state[\"messages\"])]}\n",
    "\n",
    "# Build graph\n",
    "builder = StateGraph(MessagesState)\n",
    "builder.add_node(\"filter\", filter_messages)\n",
    "builder.add_node(\"chat_model\", chat_model_node)\n",
    "builder.add_edge(START, \"filter\")\n",
    "builder.add_edge(\"filter\", \"chat_model\")\n",
    "builder.add_edge(\"chat_model\", END)\n",
    "graph = builder.compile()\n",
    "\n",
    "# View\n",
    "display(Image(graph.get_graph().draw_mermaid_png()))"
   ],
   "id": "f1458a7138914d3a",
   "outputs": [
    {
     "data": {
      "image/png": "[encoded data removed]",
      "text/plain": [
       "<IPython.core.display.Image object>"
      ]
     },
     "metadata": {},
     "output_type": "display_data"
    }
   ],
   "execution_count": 80
  },
  {
   "metadata": {
    "ExecuteTime": {
     "end_time": "2025-10-23T10:20:06.855131Z",
     "start_time": "2025-10-23T10:20:04.937286Z"
    }
   },
   "cell_type": "code",
   "source": [
    "# Message list with a preamble\n",
    "messages = [AIMessage(\"Hi.\", name=\"Bot\", id=\"1\")]\n",
    "messages.append(HumanMessage(\"Hi.\", name=\"Keshav\", id=\"2\"))\n",
    "messages.append(AIMessage(\"So you said you were researching land mammals?\", name=\"Bot\", id=\"3\"))\n",
    "messages.append(HumanMessage(\"Yes, I know about elephants. But what others should I learn about?\", name=\"Keshav\", id=\"4\"))\n",
    "\n",
    "# Invoke\n",
    "output = graph.invoke({'messages': messages})\n",
    "for m in output['messages']:\n",
    "    m.pretty_print()"
   ],
   "id": "5f0e49044469606d",
   "outputs": [
    {
     "name": "stdout",
     "output_type": "stream",
     "text": [
      "==================================\u001B[1m Ai Message \u001B[0m==================================\n",
      "Name: Bot\n",
      "\n",
      "So you said you were researching land mammals?\n",
      "================================\u001B[1m Human Message \u001B[0m=================================\n",
      "Name: Keshav\n",
      "\n",
      "Yes, I know about elephants. But what others should I learn about?\n",
      "==================================\u001B[1m Ai Message \u001B[0m==================================\n",
      "\n",
      "There are many fascinating land mammals to learn about! Here are some suggestions:\n",
      "\n",
      "1. Lions - known as the \"King of the Jungle,\" lions are majestic big cats that live in prides and are apex predators.\n",
      "2. Giraffes - the tallest land mammal, with long necks and legs, giraffes are known for their unique appearance and gentle nature.\n",
      "3. Bears - ranging from polar bears in the Arctic to grizzly bears in North America, bears are powerful omnivores that are both feared and revered.\n",
      "4. Cheetahs - the fastest land animal, cheetahs are sleek, graceful predators that can reach speeds of up to 60 miles per hour.\n",
      "5. Rhinoceroses - large, herbivorous mammals with distinctive horns, rhinos are endangered due to poaching for their horns.\n",
      "6. Wolves - highly social predators that live in packs, wolves are known for their intelligence, hunting skills, and howling communication.\n",
      "7. Elephants - intelligent and social giants of the savanna, elephants are key ecosystem engineers and have complex family structures.\n",
      "\n",
      "Each of these animals has unique characteristics and behaviors that make them intriguing subjects for study.\n"
     ]
    }
   ],
   "execution_count": 81
  },
  {
   "metadata": {},
   "cell_type": "markdown",
   "source": [
    "## Filtering messages\n",
    "\n",
    "If you don't need or want to modify the graph state, you can just filter the messages you pass to the chat model.\n",
    "\n",
    "For example, just pass in a filtered list: `llm.invoke(messages[-1:])` to the model."
   ],
   "id": "432361705318921a"
  },
  {
   "metadata": {
    "ExecuteTime": {
     "end_time": "2025-10-23T10:20:07.285109Z",
     "start_time": "2025-10-23T10:20:06.862346Z"
    }
   },
   "cell_type": "code",
   "source": [
    "# Node\n",
    "def chat_model_node(state: MessagesState):\n",
    "    return {\"messages\": [llm.invoke(state[\"messages\"][-1:])]}\n",
    "\n",
    "# Build graph\n",
    "builder = StateGraph(MessagesState)\n",
    "builder.add_node(\"chat_model\", chat_model_node)\n",
    "builder.add_edge(START, \"chat_model\")\n",
    "builder.add_edge(\"chat_model\", END)\n",
    "graph = builder.compile()\n",
    "\n",
    "# View\n",
    "display(Image(graph.get_graph().draw_mermaid_png()))"
   ],
   "id": "df019b5245cfe850",
   "outputs": [
    {
     "data": {
      "image/png": "[encoded data removed]",
      "text/plain": [
       "<IPython.core.display.Image object>"
      ]
     },
     "metadata": {},
     "output_type": "display_data"
    }
   ],
   "execution_count": 82
  },
  {
   "metadata": {},
   "cell_type": "markdown",
   "source": "Let's take our existing list of messages, append the above LLM response, and append a follow-up question.",
   "id": "fd946dbb8bf3ed05"
  },
  {
   "metadata": {
    "ExecuteTime": {
     "end_time": "2025-10-23T10:20:07.295352Z",
     "start_time": "2025-10-23T10:20:07.291110Z"
    }
   },
   "cell_type": "code",
   "source": [
    "messages.append(output['messages'][-1])\n",
    "messages.append(HumanMessage(f\"Tell me more about tigers!\", name=\"Keshav\"))"
   ],
   "id": "8dbafcc469ee29ad",
   "outputs": [],
   "execution_count": 83
  },
  {
   "metadata": {
    "ExecuteTime": {
     "end_time": "2025-10-23T10:20:07.316798Z",
     "start_time": "2025-10-23T10:20:07.308952Z"
    }
   },
   "cell_type": "code",
   "source": [
    "for m in messages:\n",
    "    m.pretty_print()"
   ],
   "id": "1c99e3ee26269812",
   "outputs": [
    {
     "name": "stdout",
     "output_type": "stream",
     "text": [
      "==================================\u001B[1m Ai Message \u001B[0m==================================\n",
      "Name: Bot\n",
      "\n",
      "Hi.\n",
      "================================\u001B[1m Human Message \u001B[0m=================================\n",
      "Name: Keshav\n",
      "\n",
      "Hi.\n",
      "==================================\u001B[1m Ai Message \u001B[0m==================================\n",
      "Name: Bot\n",
      "\n",
      "So you said you were researching land mammals?\n",
      "================================\u001B[1m Human Message \u001B[0m=================================\n",
      "Name: Keshav\n",
      "\n",
      "Yes, I know about elephants. But what others should I learn about?\n",
      "==================================\u001B[1m Ai Message \u001B[0m==================================\n",
      "\n",
      "There are many fascinating land mammals to learn about! Here are some suggestions:\n",
      "\n",
      "1. Lions - known as the \"King of the Jungle,\" lions are majestic big cats that live in prides and are apex predators.\n",
      "2. Giraffes - the tallest land mammal, with long necks and legs, giraffes are known for their unique appearance and gentle nature.\n",
      "3. Bears - ranging from polar bears in the Arctic to grizzly bears in North America, bears are powerful omnivores that are both feared and revered.\n",
      "4. Cheetahs - the fastest land animal, cheetahs are sleek, graceful predators that can reach speeds of up to 60 miles per hour.\n",
      "5. Rhinoceroses - large, herbivorous mammals with distinctive horns, rhinos are endangered due to poaching for their horns.\n",
      "6. Wolves - highly social predators that live in packs, wolves are known for their intelligence, hunting skills, and howling communication.\n",
      "7. Elephants - intelligent and social giants of the savanna, elephants are key ecosystem engineers and have complex family structures.\n",
      "\n",
      "Each of these animals has unique characteristics and behaviors that make them intriguing subjects for study.\n",
      "================================\u001B[1m Human Message \u001B[0m=================================\n",
      "Name: Keshav\n",
      "\n",
      "Tell me more about tigers!\n"
     ]
    }
   ],
   "execution_count": 84
  },
  {
   "metadata": {
    "ExecuteTime": {
     "end_time": "2025-10-23T10:20:09.717235Z",
     "start_time": "2025-10-23T10:20:07.333834Z"
    }
   },
   "cell_type": "code",
   "source": [
    "# Invoke, using message filtering\n",
    "output = graph.invoke({'messages': messages})\n",
    "for m in output['messages']:\n",
    "    m.pretty_print()"
   ],
   "id": "19bf8d8d8c1e25e5",
   "outputs": [
    {
     "name": "stdout",
     "output_type": "stream",
     "text": [
      "==================================\u001B[1m Ai Message \u001B[0m==================================\n",
      "Name: Bot\n",
      "\n",
      "Hi.\n",
      "================================\u001B[1m Human Message \u001B[0m=================================\n",
      "Name: Keshav\n",
      "\n",
      "Hi.\n",
      "==================================\u001B[1m Ai Message \u001B[0m==================================\n",
      "Name: Bot\n",
      "\n",
      "So you said you were researching land mammals?\n",
      "================================\u001B[1m Human Message \u001B[0m=================================\n",
      "Name: Keshav\n",
      "\n",
      "Yes, I know about elephants. But what others should I learn about?\n",
      "==================================\u001B[1m Ai Message \u001B[0m==================================\n",
      "\n",
      "There are many fascinating land mammals to learn about! Here are some suggestions:\n",
      "\n",
      "1. Lions - known as the \"King of the Jungle,\" lions are majestic big cats that live in prides and are apex predators.\n",
      "2. Giraffes - the tallest land mammal, with long necks and legs, giraffes are known for their unique appearance and gentle nature.\n",
      "3. Bears - ranging from polar bears in the Arctic to grizzly bears in North America, bears are powerful omnivores that are both feared and revered.\n",
      "4. Cheetahs - the fastest land animal, cheetahs are sleek, graceful predators that can reach speeds of up to 60 miles per hour.\n",
      "5. Rhinoceroses - large, herbivorous mammals with distinctive horns, rhinos are endangered due to poaching for their horns.\n",
      "6. Wolves - highly social predators that live in packs, wolves are known for their intelligence, hunting skills, and howling communication.\n",
      "7. Elephants - intelligent and social giants of the savanna, elephants are key ecosystem engineers and have complex family structures.\n",
      "\n",
      "Each of these animals has unique characteristics and behaviors that make them intriguing subjects for study.\n",
      "================================\u001B[1m Human Message \u001B[0m=================================\n",
      "Name: Keshav\n",
      "\n",
      "Tell me more about tigers!\n",
      "==================================\u001B[1m Ai Message \u001B[0m==================================\n",
      "\n",
      "Sure! Tigers are one of the largest and most iconic big cats in the world. They are known for their distinctive orange fur with black stripes, which help them blend in with their surroundings and ambush prey. Tigers are solitary animals and are known for their strength, agility, and hunting skills.\n",
      "\n",
      "There are six subspecies of tigers: Bengal, Indochinese, Malayan, Siberian, South China, and Sumatran. Unfortunately, all six subspecies are considered endangered due to habitat loss, poaching, and human-wildlife conflict.\n",
      "\n",
      "Tigers are carnivores and primarily prey on large mammals such as deer, wild boar, and water buffalo. They are skilled predators and can take down prey much larger than themselves. Tigers are also excellent swimmers and are known to hunt in the water.\n",
      "\n",
      "Tigers are territorial animals and mark their territory with scent markings and vocalizations. They are mainly active at night and are known for their loud roars, which can be heard over long distances.\n",
      "\n",
      "In terms of conservation efforts, various organizations and governments are working to protect tigers and their habitats. Conservation initiatives include anti-poaching efforts, habitat preservation, and community-based conservation projects.\n",
      "\n",
      "Overall, tigers are fascinating and majestic creatures that play a crucial role in their ecosystems. It is essential to ensure their survival for future generations to appreciate and admire these awe-inspiring animals.\n"
     ]
    }
   ],
   "execution_count": 85
  },
  {
   "metadata": {},
   "cell_type": "markdown",
   "source": [
    "The state has all of the mesages.\n",
    "\n",
    "But, let's look at the LangSmith trace to see that the model invocation only uses the last message:\n",
    "\n",
    "https://smith.langchain.com/public/75aca3ce-ef19-4b92-94be-0178c7a660d9/r"
   ],
   "id": "117bede0dc821d4c"
  },
  {
   "metadata": {},
   "cell_type": "markdown",
   "source": [
    "## Trim messages\n",
    "\n",
    "Another approach is to [trim messages](https://python.langchain.com/v0.2/docs/how_to/trim_messages/#getting-the-last-max_tokens-tokens), based upon a set number of tokens. \n",
    "\n",
    "This restricts the message history to a specified number of tokens.\n",
    "\n",
    "While filtering only returns a post-hoc subset of the messages between agents, trimming restricts the number of tokens that a chat model can use to respond.\n",
    "\n",
    "See the `trim_messages` below."
   ],
   "id": "859fcb4dc2589f8a"
  },
  {
   "metadata": {
    "ExecuteTime": {
     "end_time": "2025-10-23T10:20:10.166200Z",
     "start_time": "2025-10-23T10:20:09.723686Z"
    }
   },
   "cell_type": "code",
   "source": [
    "from langchain_core.messages import trim_messages\n",
    "\n",
    "# Node\n",
    "def chat_model_node(state: MessagesState):\n",
    "    messages = trim_messages(\n",
    "            state[\"messages\"],\n",
    "            max_tokens=100,\n",
    "            strategy=\"last\",\n",
    "            token_counter=ChatOpenAI(model=\"gpt-4o\"),\n",
    "            allow_partial=False,\n",
    "        )\n",
    "    return {\"messages\": [llm.invoke(messages)]}\n",
    "\n",
    "# Build graph\n",
    "builder = StateGraph(MessagesState)\n",
    "builder.add_node(\"chat_model\", chat_model_node)\n",
    "builder.add_edge(START, \"chat_model\")\n",
    "builder.add_edge(\"chat_model\", END)\n",
    "graph = builder.compile()\n",
    "\n",
    "# View\n",
    "display(Image(graph.get_graph().draw_mermaid_png()))"
   ],
   "id": "b8023db9ff257c0f",
   "outputs": [
    {
     "data": {
      "image/png": "[encoded data removed]",
      "text/plain": [
       "<IPython.core.display.Image object>"
      ]
     },
     "metadata": {},
     "output_type": "display_data"
    }
   ],
   "execution_count": 86
  },
  {
   "metadata": {
    "ExecuteTime": {
     "end_time": "2025-10-23T10:20:10.175917Z",
     "start_time": "2025-10-23T10:20:10.171187Z"
    }
   },
   "cell_type": "code",
   "source": [
    "messages.append(output['messages'][-1])\n",
    "messages.append(HumanMessage(f\"Tell me where Tigers are found!\", name=\"Keshav\"))"
   ],
   "id": "312be03aa7cdcbf1",
   "outputs": [],
   "execution_count": 87
  },
  {
   "metadata": {
    "ExecuteTime": {
     "end_time": "2025-10-23T10:20:10.196067Z",
     "start_time": "2025-10-23T10:20:10.186318Z"
    }
   },
   "cell_type": "code",
   "source": [
    "# Example of trimming messages\n",
    "trim_messages(\n",
    "            messages,\n",
    "            max_tokens=100,\n",
    "            strategy=\"last\",\n",
    "            token_counter=ChatOpenAI(model=\"gpt-4o\"),\n",
    "            allow_partial=False\n",
    "        )"
   ],
   "id": "ac564f7fe0bfc6cf",
   "outputs": [
    {
     "data": {
      "text/plain": [
       "[HumanMessage(content='Tell me where Tigers are found!', additional_kwargs={}, response_metadata={}, name='Keshav')]"
      ]
     },
     "execution_count": 88,
     "metadata": {},
     "output_type": "execute_result"
    }
   ],
   "execution_count": 88
  },
  {
   "metadata": {
    "ExecuteTime": {
     "end_time": "2025-10-23T10:20:12.181308Z",
     "start_time": "2025-10-23T10:20:10.233392Z"
    }
   },
   "cell_type": "code",
   "source": [
    "# Invoke, using message trimming in the chat_model_node \n",
    "messages_out_trim = graph.invoke({'messages': messages})"
   ],
   "id": "81a8ad42db468276",
   "outputs": [],
   "execution_count": 89
  },
  {
   "metadata": {},
   "cell_type": "markdown",
   "source": [
    "Let's look at the LangSmith trace to see the model invocation:\n",
    "\n",
    "https://smith.langchain.com/public/b153f7e9-f1a5-4d60-8074-f0d7ab5b42ef/r"
   ],
   "id": "b9cde4752cc980bb"
  }
 ],
 "metadata": {},
 "nbformat": 4,
 "nbformat_minor": 5
}
