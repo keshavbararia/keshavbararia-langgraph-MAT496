{
 "cells": [
  {
   "metadata": {},
   "cell_type": "markdown",
   "source": "[![Open in Colab](https://colab.research.google.com/assets/colab-badge.svg)](https://colab.research.google.com/github/langchain-ai/langchain-academy/blob/main/module-3/time-travel.ipynb) [![Open in LangChain Academy](https://cdn.prod.website-files.com/65b8cd72835ceeacd4449a53/66e9eba12c7b7688aa3dbb5e_LCA-badge-green.svg)](https://academy.langchain.com/courses/take/intro-to-langgraph/lessons/58239536-lesson-5-time-travel)",
   "id": "b6b61eca40c928af"
  },
  {
   "metadata": {},
   "cell_type": "markdown",
   "source": [
    "# Time travel\n",
    "\n",
    "## Review\n",
    "\n",
    "We discussed motivations for human-in-the-loop:\n",
    "\n",
    "(1) `Approval` - We can interrupt our agent, surface state to a user, and allow the user to accept an action\n",
    "\n",
    "(2) `Debugging` - We can rewind the graph to reproduce or avoid issues\n",
    "\n",
    "(3) `Editing` - You can modify the state \n",
    "\n",
    "We showed how breakpoints can stop the graph at specific nodes or allow the graph to dynamically interrupt itself.\n",
    "\n",
    "Then we showed how to proceed with human approval or directly edit the graph state with human feedback.\n",
    "\n",
    "## Goals\n",
    "\n",
    "Now, let's show how LangGraph [supports debugging](https://langchain-ai.github.io/langgraph/how-tos/human_in_the_loop/time-travel/) by viewing, re-playing, and even forking from past states. \n",
    "\n",
    "We call this `time travel`."
   ],
   "id": "14e547521a52df62"
  },
  {
   "metadata": {
    "ExecuteTime": {
     "end_time": "2025-10-27T13:24:07.448790Z",
     "start_time": "2025-10-27T13:24:04.130504Z"
    }
   },
   "cell_type": "code",
   "source": [
    "%%capture --no-stderr\n",
    "%pip install --quiet -U langgraph langchain_openai langgraph_sdk langgraph-prebuilt"
   ],
   "id": "1c062e81a02dc51c",
   "outputs": [
    {
     "name": "stderr",
     "output_type": "stream",
     "text": [
      "\n",
      "[notice] A new release of pip is available: 25.1.1 -> 25.2\n",
      "[notice] To update, run: python.exe -m pip install --upgrade pip\n"
     ]
    }
   ],
   "execution_count": 57
  },
  {
   "metadata": {
    "ExecuteTime": {
     "end_time": "2025-10-27T13:24:07.459589Z",
     "start_time": "2025-10-27T13:24:07.455506Z"
    }
   },
   "cell_type": "code",
   "source": [
    "import os, getpass\n",
    "\n",
    "def _set_env(var: str):\n",
    "    if not os.environ.get(var):\n",
    "        os.environ[var] = getpass.getpass(f\"{var}: \")\n",
    "\n",
    "_set_env(\"OPENAI_API_KEY\")"
   ],
   "id": "c99e0399483c423d",
   "outputs": [],
   "execution_count": 58
  },
  {
   "metadata": {},
   "cell_type": "markdown",
   "source": "Let's build our agent.",
   "id": "ef16839a65596b8"
  },
  {
   "metadata": {
    "ExecuteTime": {
     "end_time": "2025-10-27T13:24:07.490813Z",
     "start_time": "2025-10-27T13:24:07.475212Z"
    }
   },
   "cell_type": "code",
   "source": [
    "from langchain_openai import ChatOpenAI\n",
    "\n",
    "def multiply(a: int, b: int) -> int:\n",
    "    \"\"\"Multiply a and b.\n",
    "\n",
    "    Args:\n",
    "        a: first int\n",
    "        b: second int\n",
    "    \"\"\"\n",
    "    return a * b\n",
    "\n",
    "# This will be a tool\n",
    "def add(a: int, b: int) -> int:\n",
    "    \"\"\"Adds a and b.\n",
    "\n",
    "    Args:\n",
    "        a: first int\n",
    "        b: second int\n",
    "    \"\"\"\n",
    "    return a + b\n",
    "\n",
    "def divide(a: int, b: int) -> float:\n",
    "    \"\"\"Divide a by b.\n",
    "\n",
    "    Args:\n",
    "        a: first int\n",
    "        b: second int\n",
    "    \"\"\"\n",
    "    return a / b\n",
    "def subtract(a: int, b: int) -> float:\n",
    "    \"\"\"Subtract b from a.\n",
    "\n",
    "    Args:\n",
    "        a: first int\n",
    "        b: second int\n",
    "    \"\"\"\n",
    "    return a-b\n",
    "\n",
    "tools = [add, multiply, divide, subtract]\n",
    "llm = ChatOpenAI(model=\"gpt-4o\")\n",
    "llm_with_tools = llm.bind_tools(tools)"
   ],
   "id": "8c65bac8694f7489",
   "outputs": [],
   "execution_count": 59
  },
  {
   "metadata": {
    "ExecuteTime": {
     "end_time": "2025-10-27T13:24:07.890377Z",
     "start_time": "2025-10-27T13:24:07.499110Z"
    }
   },
   "cell_type": "code",
   "source": [
    "from IPython.display import Image, display\n",
    "\n",
    "from langgraph.checkpoint.memory import MemorySaver\n",
    "from langgraph.graph import MessagesState\n",
    "from langgraph.graph import START, END, StateGraph\n",
    "from langgraph.prebuilt import tools_condition, ToolNode\n",
    "\n",
    "from langchain_core.messages import AIMessage, HumanMessage, SystemMessage\n",
    "\n",
    "# System message\n",
    "sys_msg = SystemMessage(content=\"You are a helpful assistant tasked with performing arithmetic on a set of inputs.\")\n",
    "\n",
    "# Node\n",
    "def assistant(state: MessagesState):\n",
    "   return {\"messages\": [llm_with_tools.invoke([sys_msg] + state[\"messages\"])]}\n",
    "\n",
    "# Graph\n",
    "builder = StateGraph(MessagesState)\n",
    "\n",
    "# Define nodes: these do the work\n",
    "builder.add_node(\"assistant\", assistant)\n",
    "builder.add_node(\"tools\", ToolNode(tools))\n",
    "\n",
    "# Define edges: these determine the control flow\n",
    "builder.add_edge(START, \"assistant\")\n",
    "builder.add_conditional_edges(\n",
    "    \"assistant\",\n",
    "    # If the latest message (result) from assistant is a tool call -> tools_condition routes to tools\n",
    "    # If the latest message (result) from assistant is a not a tool call -> tools_condition routes to END\n",
    "    tools_condition,\n",
    ")\n",
    "builder.add_edge(\"tools\", \"assistant\")\n",
    "\n",
    "memory = MemorySaver()\n",
    "graph = builder.compile(checkpointer=MemorySaver())\n",
    "\n",
    "# Show\n",
    "display(Image(graph.get_graph(xray=True).draw_mermaid_png()))"
   ],
   "id": "4c1bd321ff0fffa2",
   "outputs": [
    {
     "data": {
      "image/png": "[encoded data removed]",
      "text/plain": [
       "<IPython.core.display.Image object>"
      ]
     },
     "metadata": {},
     "output_type": "display_data"
    }
   ],
   "execution_count": 60
  },
  {
   "metadata": {},
   "cell_type": "markdown",
   "source": "Let's run it, as before.",
   "id": "a7ca18ecba80a813"
  },
  {
   "metadata": {
    "ExecuteTime": {
     "end_time": "2025-10-27T13:24:11.345479Z",
     "start_time": "2025-10-27T13:24:07.897115Z"
    }
   },
   "cell_type": "code",
   "source": [
    "# Input\n",
    "initial_input = {\"messages\": HumanMessage(content=\"subtract 2 from 3\")}\n",
    "\n",
    "# Thread\n",
    "thread = {\"configurable\": {\"thread_id\": \"1\"}}\n",
    "\n",
    "# Run the graph until the first interruption\n",
    "for event in graph.stream(initial_input, thread, stream_mode=\"values\"):\n",
    "    event['messages'][-1].pretty_print()"
   ],
   "id": "cef4a10ba536d428",
   "outputs": [
    {
     "name": "stdout",
     "output_type": "stream",
     "text": [
      "================================\u001B[1m Human Message \u001B[0m=================================\n",
      "\n",
      "subtract 2 from 3\n",
      "==================================\u001B[1m Ai Message \u001B[0m==================================\n",
      "Tool Calls:\n",
      "  subtract (call_q2Iwcm3Thh8GM7FYFLSnQMro)\n",
      " Call ID: call_q2Iwcm3Thh8GM7FYFLSnQMro\n",
      "  Args:\n",
      "    a: 3\n",
      "    b: 2\n",
      "=================================\u001B[1m Tool Message \u001B[0m=================================\n",
      "Name: subtract\n",
      "\n",
      "1\n",
      "==================================\u001B[1m Ai Message \u001B[0m==================================\n",
      "\n",
      "The result of subtracting 2 from 3 is 1.\n"
     ]
    }
   ],
   "execution_count": 61
  },
  {
   "metadata": {},
   "cell_type": "markdown",
   "source": [
    "## Browsing History\n",
    "\n",
    "We can use `get_state` to look at the **current** state of our graph, given the `thread_id`!"
   ],
   "id": "651c94d7381f1eb"
  },
  {
   "metadata": {
    "ExecuteTime": {
     "end_time": "2025-10-27T13:24:11.357199Z",
     "start_time": "2025-10-27T13:24:11.351420Z"
    }
   },
   "cell_type": "code",
   "source": "graph.get_state({'configurable': {'thread_id': '1'}})",
   "id": "201ccb13b503ee86",
   "outputs": [
    {
     "data": {
      "text/plain": [
       "StateSnapshot(values={'messages': [HumanMessage(content='subtract 2 from 3', additional_kwargs={}, response_metadata={}, id='9235968d-445a-42c5-acbf-249a260975a9'), AIMessage(content='', additional_kwargs={'refusal': None}, response_metadata={'token_usage': {'completion_tokens': 17, 'prompt_tokens': 161, 'total_tokens': 178, 'completion_tokens_details': {'accepted_prediction_tokens': 0, 'audio_tokens': 0, 'reasoning_tokens': 0, 'rejected_prediction_tokens': 0}, 'prompt_tokens_details': {'audio_tokens': 0, 'cached_tokens': 0}}, 'model_provider': 'openai', 'model_name': 'gpt-4o-2024-08-06', 'system_fingerprint': 'fp_65564d8ba5', 'id': 'chatcmpl-CVHUht0G5p8tP1Kva6JqIOgXwoAZI', 'service_tier': 'default', 'finish_reason': 'tool_calls', 'logprobs': None}, id='lc_run--46b084f7-80db-41da-b892-a36e7153ffc5-0', tool_calls=[{'name': 'subtract', 'args': {'a': 3, 'b': 2}, 'id': 'call_q2Iwcm3Thh8GM7FYFLSnQMro', 'type': 'tool_call'}], usage_metadata={'input_tokens': 161, 'output_tokens': 17, 'total_tokens': 178, 'input_token_details': {'audio': 0, 'cache_read': 0}, 'output_token_details': {'audio': 0, 'reasoning': 0}}), ToolMessage(content='1', name='subtract', id='2e650108-f373-4802-aa2a-505bf2efa861', tool_call_id='call_q2Iwcm3Thh8GM7FYFLSnQMro'), AIMessage(content='The result of subtracting 2 from 3 is 1.', additional_kwargs={'refusal': None}, response_metadata={'token_usage': {'completion_tokens': 15, 'prompt_tokens': 186, 'total_tokens': 201, 'completion_tokens_details': {'accepted_prediction_tokens': 0, 'audio_tokens': 0, 'reasoning_tokens': 0, 'rejected_prediction_tokens': 0}, 'prompt_tokens_details': {'audio_tokens': 0, 'cached_tokens': 0}}, 'model_provider': 'openai', 'model_name': 'gpt-4o-2024-08-06', 'system_fingerprint': 'fp_65564d8ba5', 'id': 'chatcmpl-CVHUi5WtQtKNb3hSTo7DcjqSERdGP', 'service_tier': 'default', 'finish_reason': 'stop', 'logprobs': None}, id='lc_run--c16790a4-52c6-4f7c-9e87-7c44547bb923-0', usage_metadata={'input_tokens': 186, 'output_tokens': 15, 'total_tokens': 201, 'input_token_details': {'audio': 0, 'cache_read': 0}, 'output_token_details': {'audio': 0, 'reasoning': 0}})]}, next=(), config={'configurable': {'thread_id': '1', 'checkpoint_ns': '', 'checkpoint_id': '1f0b3383-989c-6be1-8003-41176e5a50a6'}}, metadata={'source': 'loop', 'step': 3, 'parents': {}}, created_at='2025-10-27T13:24:11.335779+00:00', parent_config={'configurable': {'thread_id': '1', 'checkpoint_ns': '', 'checkpoint_id': '1f0b3383-917d-6394-8002-3a92594ed4bc'}}, tasks=(), interrupts=())"
      ]
     },
     "execution_count": 62,
     "metadata": {},
     "output_type": "execute_result"
    }
   ],
   "execution_count": 62
  },
  {
   "metadata": {},
   "cell_type": "markdown",
   "source": [
    "We can also browse the state history of our agent.\n",
    "\n",
    "`get_state_history` lets us get the state at all prior steps.\n"
   ],
   "id": "5b5b525dd707af8"
  },
  {
   "metadata": {
    "ExecuteTime": {
     "end_time": "2025-10-27T13:24:11.385776Z",
     "start_time": "2025-10-27T13:24:11.379942Z"
    }
   },
   "cell_type": "code",
   "source": "all_states = [s for s in graph.get_state_history(thread)]",
   "id": "99761ad7e14b4f42",
   "outputs": [],
   "execution_count": 63
  },
  {
   "metadata": {
    "ExecuteTime": {
     "end_time": "2025-10-27T13:24:11.399227Z",
     "start_time": "2025-10-27T13:24:11.393964Z"
    }
   },
   "cell_type": "code",
   "source": "len(all_states)",
   "id": "fb70969a97dd5ded",
   "outputs": [
    {
     "data": {
      "text/plain": [
       "5"
      ]
     },
     "execution_count": 64,
     "metadata": {},
     "output_type": "execute_result"
    }
   ],
   "execution_count": 64
  },
  {
   "metadata": {},
   "cell_type": "markdown",
   "source": "The first element is the current state, just as we got from `get_state`.",
   "id": "2f45d6240d2e9c25"
  },
  {
   "metadata": {
    "ExecuteTime": {
     "end_time": "2025-10-27T13:24:11.433408Z",
     "start_time": "2025-10-27T13:24:11.427246Z"
    }
   },
   "cell_type": "code",
   "source": "all_states[-2]",
   "id": "3d53403a8adce25a",
   "outputs": [
    {
     "data": {
      "text/plain": [
       "StateSnapshot(values={'messages': [HumanMessage(content='subtract 2 from 3', additional_kwargs={}, response_metadata={}, id='9235968d-445a-42c5-acbf-249a260975a9')]}, next=('assistant',), config={'configurable': {'thread_id': '1', 'checkpoint_ns': '', 'checkpoint_id': '1f0b3383-77dd-6198-8000-c496ad400497'}}, metadata={'source': 'loop', 'step': 0, 'parents': {}}, created_at='2025-10-27T13:24:07.901839+00:00', parent_config={'configurable': {'thread_id': '1', 'checkpoint_ns': '', 'checkpoint_id': '1f0b3383-77d1-690f-bfff-b35110889618'}}, tasks=(PregelTask(id='2689a149-ed94-616e-9254-acce794360ad', name='assistant', path=('__pregel_pull', 'assistant'), error=None, interrupts=(), state=None, result={'messages': [AIMessage(content='', additional_kwargs={'refusal': None}, response_metadata={'token_usage': {'completion_tokens': 17, 'prompt_tokens': 161, 'total_tokens': 178, 'completion_tokens_details': {'accepted_prediction_tokens': 0, 'audio_tokens': 0, 'reasoning_tokens': 0, 'rejected_prediction_tokens': 0}, 'prompt_tokens_details': {'audio_tokens': 0, 'cached_tokens': 0}}, 'model_provider': 'openai', 'model_name': 'gpt-4o-2024-08-06', 'system_fingerprint': 'fp_65564d8ba5', 'id': 'chatcmpl-CVHUht0G5p8tP1Kva6JqIOgXwoAZI', 'service_tier': 'default', 'finish_reason': 'tool_calls', 'logprobs': None}, id='lc_run--46b084f7-80db-41da-b892-a36e7153ffc5-0', tool_calls=[{'name': 'subtract', 'args': {'a': 3, 'b': 2}, 'id': 'call_q2Iwcm3Thh8GM7FYFLSnQMro', 'type': 'tool_call'}], usage_metadata={'input_tokens': 161, 'output_tokens': 17, 'total_tokens': 178, 'input_token_details': {'audio': 0, 'cache_read': 0}, 'output_token_details': {'audio': 0, 'reasoning': 0}})]}),), interrupts=())"
      ]
     },
     "execution_count": 65,
     "metadata": {},
     "output_type": "execute_result"
    }
   ],
   "execution_count": 65
  },
  {
   "metadata": {},
   "cell_type": "markdown",
   "source": [
    "Everything above we can visualize here: \n",
    "\n",
    "![fig1.jpg](https://cdn.prod.website-files.com/65b8cd72835ceeacd4449a53/66dbb038211b544898570be3_time-travel1.png)"
   ],
   "id": "bb7ba8bcc444b1fb"
  },
  {
   "metadata": {},
   "cell_type": "markdown",
   "source": [
    "## Replaying \n",
    "\n",
    "We can re-run our agent from any of the prior steps.\n",
    "\n",
    "![fig2.jpg](https://cdn.prod.website-files.com/65b8cd72835ceeacd4449a53/66dbb038a0bd34b541c78fb8_time-travel2.png)"
   ],
   "id": "dda0169fa6a5154e"
  },
  {
   "metadata": {},
   "cell_type": "markdown",
   "source": "Let's look back at the step that recieved human input!",
   "id": "cfccbfdfcd59d3ce"
  },
  {
   "metadata": {
    "ExecuteTime": {
     "end_time": "2025-10-27T13:24:11.452688Z",
     "start_time": "2025-10-27T13:24:11.447368Z"
    }
   },
   "cell_type": "code",
   "source": "to_replay = all_states[-2]",
   "id": "b58e10761938704b",
   "outputs": [],
   "execution_count": 66
  },
  {
   "metadata": {
    "ExecuteTime": {
     "end_time": "2025-10-27T13:24:11.478152Z",
     "start_time": "2025-10-27T13:24:11.472777Z"
    }
   },
   "cell_type": "code",
   "source": "to_replay",
   "id": "253f17da5f78c09e",
   "outputs": [
    {
     "data": {
      "text/plain": [
       "StateSnapshot(values={'messages': [HumanMessage(content='subtract 2 from 3', additional_kwargs={}, response_metadata={}, id='9235968d-445a-42c5-acbf-249a260975a9')]}, next=('assistant',), config={'configurable': {'thread_id': '1', 'checkpoint_ns': '', 'checkpoint_id': '1f0b3383-77dd-6198-8000-c496ad400497'}}, metadata={'source': 'loop', 'step': 0, 'parents': {}}, created_at='2025-10-27T13:24:07.901839+00:00', parent_config={'configurable': {'thread_id': '1', 'checkpoint_ns': '', 'checkpoint_id': '1f0b3383-77d1-690f-bfff-b35110889618'}}, tasks=(PregelTask(id='2689a149-ed94-616e-9254-acce794360ad', name='assistant', path=('__pregel_pull', 'assistant'), error=None, interrupts=(), state=None, result={'messages': [AIMessage(content='', additional_kwargs={'refusal': None}, response_metadata={'token_usage': {'completion_tokens': 17, 'prompt_tokens': 161, 'total_tokens': 178, 'completion_tokens_details': {'accepted_prediction_tokens': 0, 'audio_tokens': 0, 'reasoning_tokens': 0, 'rejected_prediction_tokens': 0}, 'prompt_tokens_details': {'audio_tokens': 0, 'cached_tokens': 0}}, 'model_provider': 'openai', 'model_name': 'gpt-4o-2024-08-06', 'system_fingerprint': 'fp_65564d8ba5', 'id': 'chatcmpl-CVHUht0G5p8tP1Kva6JqIOgXwoAZI', 'service_tier': 'default', 'finish_reason': 'tool_calls', 'logprobs': None}, id='lc_run--46b084f7-80db-41da-b892-a36e7153ffc5-0', tool_calls=[{'name': 'subtract', 'args': {'a': 3, 'b': 2}, 'id': 'call_q2Iwcm3Thh8GM7FYFLSnQMro', 'type': 'tool_call'}], usage_metadata={'input_tokens': 161, 'output_tokens': 17, 'total_tokens': 178, 'input_token_details': {'audio': 0, 'cache_read': 0}, 'output_token_details': {'audio': 0, 'reasoning': 0}})]}),), interrupts=())"
      ]
     },
     "execution_count": 67,
     "metadata": {},
     "output_type": "execute_result"
    }
   ],
   "execution_count": 67
  },
  {
   "metadata": {},
   "cell_type": "markdown",
   "source": "Look at the state.",
   "id": "cf83d35396e4395a"
  },
  {
   "metadata": {
    "ExecuteTime": {
     "end_time": "2025-10-27T13:24:11.503709Z",
     "start_time": "2025-10-27T13:24:11.498662Z"
    }
   },
   "cell_type": "code",
   "source": "to_replay.values",
   "id": "f4095b5a7e85ef99",
   "outputs": [
    {
     "data": {
      "text/plain": [
       "{'messages': [HumanMessage(content='subtract 2 from 3', additional_kwargs={}, response_metadata={}, id='9235968d-445a-42c5-acbf-249a260975a9')]}"
      ]
     },
     "execution_count": 68,
     "metadata": {},
     "output_type": "execute_result"
    }
   ],
   "execution_count": 68
  },
  {
   "metadata": {},
   "cell_type": "markdown",
   "source": "We can see the next node to call.",
   "id": "b992dcac0f1eeba6"
  },
  {
   "metadata": {
    "ExecuteTime": {
     "end_time": "2025-10-27T13:24:11.527331Z",
     "start_time": "2025-10-27T13:24:11.522075Z"
    }
   },
   "cell_type": "code",
   "source": "to_replay.next",
   "id": "3040185dbb2e8b6",
   "outputs": [
    {
     "data": {
      "text/plain": [
       "('assistant',)"
      ]
     },
     "execution_count": 69,
     "metadata": {},
     "output_type": "execute_result"
    }
   ],
   "execution_count": 69
  },
  {
   "metadata": {},
   "cell_type": "markdown",
   "source": "We also get the config, which tells us the `checkpoint_id` as well as the `thread_id`.",
   "id": "c26989324a939990"
  },
  {
   "metadata": {
    "ExecuteTime": {
     "end_time": "2025-10-27T13:24:11.549279Z",
     "start_time": "2025-10-27T13:24:11.542696Z"
    }
   },
   "cell_type": "code",
   "source": "to_replay.config",
   "id": "1d9e1fdb71c26a7c",
   "outputs": [
    {
     "data": {
      "text/plain": [
       "{'configurable': {'thread_id': '1',\n",
       "  'checkpoint_ns': '',\n",
       "  'checkpoint_id': '1f0b3383-77dd-6198-8000-c496ad400497'}}"
      ]
     },
     "execution_count": 70,
     "metadata": {},
     "output_type": "execute_result"
    }
   ],
   "execution_count": 70
  },
  {
   "metadata": {},
   "cell_type": "markdown",
   "source": [
    "To replay from here, we simply pass the config back to the agent!\n",
    "\n",
    "The graph knows that this checkpoint has aleady been executed. \n",
    "\n",
    "It just re-plays from this checkpoint!"
   ],
   "id": "61612c6ba99159fb"
  },
  {
   "metadata": {
    "ExecuteTime": {
     "end_time": "2025-10-27T13:24:13.294190Z",
     "start_time": "2025-10-27T13:24:11.564809Z"
    }
   },
   "cell_type": "code",
   "source": [
    "for event in graph.stream(None, to_replay.config, stream_mode=\"values\"):\n",
    "    event['messages'][-1].pretty_print()"
   ],
   "id": "243b136cfb4a45e0",
   "outputs": [
    {
     "name": "stdout",
     "output_type": "stream",
     "text": [
      "================================\u001B[1m Human Message \u001B[0m=================================\n",
      "\n",
      "subtract 2 from 3\n",
      "==================================\u001B[1m Ai Message \u001B[0m==================================\n",
      "Tool Calls:\n",
      "  subtract (call_DglJ3QBshrIS6fMjVkSuUkRX)\n",
      " Call ID: call_DglJ3QBshrIS6fMjVkSuUkRX\n",
      "  Args:\n",
      "    a: 3\n",
      "    b: 2\n",
      "=================================\u001B[1m Tool Message \u001B[0m=================================\n",
      "Name: subtract\n",
      "\n",
      "1\n",
      "==================================\u001B[1m Ai Message \u001B[0m==================================\n",
      "\n",
      "The result of subtracting 2 from 3 is 1.\n"
     ]
    }
   ],
   "execution_count": 71
  },
  {
   "metadata": {},
   "cell_type": "markdown",
   "source": "Now, we can see our current state after the agent re-ran.",
   "id": "9d1783e774b2d95d"
  },
  {
   "metadata": {},
   "cell_type": "markdown",
   "source": [
    "## Forking\n",
    "\n",
    "What if we want to run from that same step, but with a different input.\n",
    "\n",
    "This is forking.\n",
    "\n",
    "![fig3.jpg](https://cdn.prod.website-files.com/65b8cd72835ceeacd4449a53/66dbb038f89f2d847ee5c336_time-travel3.png)"
   ],
   "id": "5e1b6b9d533ce3c2"
  },
  {
   "metadata": {
    "ExecuteTime": {
     "end_time": "2025-10-27T13:24:13.304986Z",
     "start_time": "2025-10-27T13:24:13.296132Z"
    }
   },
   "cell_type": "code",
   "source": [
    "to_fork = all_states[-2]\n",
    "to_fork.values[\"messages\"]"
   ],
   "id": "d536f42fb42204c1",
   "outputs": [
    {
     "data": {
      "text/plain": [
       "[HumanMessage(content='subtract 2 from 3', additional_kwargs={}, response_metadata={}, id='9235968d-445a-42c5-acbf-249a260975a9')]"
      ]
     },
     "execution_count": 72,
     "metadata": {},
     "output_type": "execute_result"
    }
   ],
   "execution_count": 72
  },
  {
   "metadata": {},
   "cell_type": "markdown",
   "source": "Again, we have the config.",
   "id": "629dd83613fcdad3"
  },
  {
   "metadata": {
    "ExecuteTime": {
     "end_time": "2025-10-27T13:24:13.326337Z",
     "start_time": "2025-10-27T13:24:13.319083Z"
    }
   },
   "cell_type": "code",
   "source": "to_fork.config",
   "id": "24f248b04a34c37f",
   "outputs": [
    {
     "data": {
      "text/plain": [
       "{'configurable': {'thread_id': '1',\n",
       "  'checkpoint_ns': '',\n",
       "  'checkpoint_id': '1f0b3383-77dd-6198-8000-c496ad400497'}}"
      ]
     },
     "execution_count": 73,
     "metadata": {},
     "output_type": "execute_result"
    }
   ],
   "execution_count": 73
  },
  {
   "metadata": {},
   "cell_type": "markdown",
   "source": [
    "Let's modify the state at this checkpoint.\n",
    "\n",
    "We can just run `update_state` with the `checkpoint_id` supplied. \n",
    "\n",
    "Remember how our reducer on `messages` works: \n",
    "\n",
    "* It will append, unless we supply a message ID.\n",
    "* We supply the message ID to overwrite the message, rather than appending to state!\n",
    "\n",
    "So, to overwrite the the message, we just supply the message ID, which we have `to_fork.values[\"messages\"].id`."
   ],
   "id": "bac80f74d3be50cf"
  },
  {
   "metadata": {
    "ExecuteTime": {
     "end_time": "2025-10-27T13:24:13.365940Z",
     "start_time": "2025-10-27T13:24:13.357665Z"
    }
   },
   "cell_type": "code",
   "source": [
    "fork_config = graph.update_state(\n",
    "    to_fork.config,\n",
    "    {\"messages\": [HumanMessage(content='subtract 5 from 3',\n",
    "                               id=to_fork.values[\"messages\"][0].id)]},\n",
    ")"
   ],
   "id": "fe58e0a1408c0fc5",
   "outputs": [],
   "execution_count": 74
  },
  {
   "metadata": {
    "ExecuteTime": {
     "end_time": "2025-10-27T13:24:13.380845Z",
     "start_time": "2025-10-27T13:24:13.373859Z"
    }
   },
   "cell_type": "code",
   "source": "fork_config",
   "id": "893af9246d1278ad",
   "outputs": [
    {
     "data": {
      "text/plain": [
       "{'configurable': {'thread_id': '1',\n",
       "  'checkpoint_ns': '',\n",
       "  'checkpoint_id': '1f0b3383-abe4-6fca-8001-c426aa50a03e'}}"
      ]
     },
     "execution_count": 75,
     "metadata": {},
     "output_type": "execute_result"
    }
   ],
   "execution_count": 75
  },
  {
   "metadata": {},
   "cell_type": "markdown",
   "source": [
    "This creates a new, forked checkpoint.\n",
    " \n",
    "But, the metadata - e.g., where to go next - is perserved! \n",
    "\n",
    "We can see the current state of our agent has been updated with our fork."
   ],
   "id": "d8a0706eccfb3d01"
  },
  {
   "metadata": {
    "ExecuteTime": {
     "end_time": "2025-10-27T13:24:13.415887Z",
     "start_time": "2025-10-27T13:24:13.407524Z"
    }
   },
   "cell_type": "code",
   "source": [
    "all_states = [state for state in graph.get_state_history(thread) ]\n",
    "all_states[0].values[\"messages\"]"
   ],
   "id": "790f2fd2f04a4dcb",
   "outputs": [
    {
     "data": {
      "text/plain": [
       "[HumanMessage(content='subtract 5 from 3', additional_kwargs={}, response_metadata={}, id='9235968d-445a-42c5-acbf-249a260975a9'),\n",
       " AIMessage(content='', additional_kwargs={'refusal': None}, response_metadata={'token_usage': {'completion_tokens': 17, 'prompt_tokens': 161, 'total_tokens': 178, 'completion_tokens_details': {'accepted_prediction_tokens': 0, 'audio_tokens': 0, 'reasoning_tokens': 0, 'rejected_prediction_tokens': 0}, 'prompt_tokens_details': {'audio_tokens': 0, 'cached_tokens': 0}}, 'model_provider': 'openai', 'model_name': 'gpt-4o-2024-08-06', 'system_fingerprint': 'fp_65564d8ba5', 'id': 'chatcmpl-CVHUht0G5p8tP1Kva6JqIOgXwoAZI', 'service_tier': 'default', 'finish_reason': 'tool_calls', 'logprobs': None}, id='lc_run--46b084f7-80db-41da-b892-a36e7153ffc5-0', tool_calls=[{'name': 'subtract', 'args': {'a': 3, 'b': 2}, 'id': 'call_q2Iwcm3Thh8GM7FYFLSnQMro', 'type': 'tool_call'}], usage_metadata={'input_tokens': 161, 'output_tokens': 17, 'total_tokens': 178, 'input_token_details': {'audio': 0, 'cache_read': 0}, 'output_token_details': {'audio': 0, 'reasoning': 0}})]"
      ]
     },
     "execution_count": 76,
     "metadata": {},
     "output_type": "execute_result"
    }
   ],
   "execution_count": 76
  },
  {
   "metadata": {
    "ExecuteTime": {
     "end_time": "2025-10-27T13:24:13.436694Z",
     "start_time": "2025-10-27T13:24:13.432111Z"
    }
   },
   "cell_type": "code",
   "source": "graph.get_state({'configurable': {'thread_id': '1'}})",
   "id": "58ced2e44eb6ee32",
   "outputs": [
    {
     "data": {
      "text/plain": [
       "StateSnapshot(values={'messages': [HumanMessage(content='subtract 5 from 3', additional_kwargs={}, response_metadata={}, id='9235968d-445a-42c5-acbf-249a260975a9'), AIMessage(content='', additional_kwargs={'refusal': None}, response_metadata={'token_usage': {'completion_tokens': 17, 'prompt_tokens': 161, 'total_tokens': 178, 'completion_tokens_details': {'accepted_prediction_tokens': 0, 'audio_tokens': 0, 'reasoning_tokens': 0, 'rejected_prediction_tokens': 0}, 'prompt_tokens_details': {'audio_tokens': 0, 'cached_tokens': 0}}, 'model_provider': 'openai', 'model_name': 'gpt-4o-2024-08-06', 'system_fingerprint': 'fp_65564d8ba5', 'id': 'chatcmpl-CVHUht0G5p8tP1Kva6JqIOgXwoAZI', 'service_tier': 'default', 'finish_reason': 'tool_calls', 'logprobs': None}, id='lc_run--46b084f7-80db-41da-b892-a36e7153ffc5-0', tool_calls=[{'name': 'subtract', 'args': {'a': 3, 'b': 2}, 'id': 'call_q2Iwcm3Thh8GM7FYFLSnQMro', 'type': 'tool_call'}], usage_metadata={'input_tokens': 161, 'output_tokens': 17, 'total_tokens': 178, 'input_token_details': {'audio': 0, 'cache_read': 0}, 'output_token_details': {'audio': 0, 'reasoning': 0}})]}, next=('tools',), config={'configurable': {'thread_id': '1', 'checkpoint_ns': '', 'checkpoint_id': '1f0b3383-abe4-6fca-8001-c426aa50a03e'}}, metadata={'source': 'update', 'step': 1, 'parents': {}}, created_at='2025-10-27T13:24:13.357665+00:00', parent_config={'configurable': {'thread_id': '1', 'checkpoint_ns': '', 'checkpoint_id': '1f0b3383-77dd-6198-8000-c496ad400497'}}, tasks=(PregelTask(id='db329179-cde8-272f-0567-714813d2958a', name='tools', path=('__pregel_pull', 'tools'), error=None, interrupts=(), state=None, result=None),), interrupts=())"
      ]
     },
     "execution_count": 77,
     "metadata": {},
     "output_type": "execute_result"
    }
   ],
   "execution_count": 77
  },
  {
   "metadata": {},
   "cell_type": "markdown",
   "source": [
    "Now, when we stream, the graph knows this checkpoint has never been executed.\n",
    "\n",
    "So, the graph runs, rather than simply re-playing."
   ],
   "id": "f9273928d47582b9"
  },
  {
   "metadata": {
    "ExecuteTime": {
     "end_time": "2025-10-27T13:24:14.282289Z",
     "start_time": "2025-10-27T13:24:13.454944Z"
    }
   },
   "cell_type": "code",
   "source": [
    "for event in graph.stream(None, fork_config, stream_mode=\"values\"):\n",
    "    event['messages'][-1].pretty_print()"
   ],
   "id": "e96c727abc3e3151",
   "outputs": [
    {
     "name": "stdout",
     "output_type": "stream",
     "text": [
      "==================================\u001B[1m Ai Message \u001B[0m==================================\n",
      "Tool Calls:\n",
      "  subtract (call_q2Iwcm3Thh8GM7FYFLSnQMro)\n",
      " Call ID: call_q2Iwcm3Thh8GM7FYFLSnQMro\n",
      "  Args:\n",
      "    a: 3\n",
      "    b: 2\n",
      "=================================\u001B[1m Tool Message \u001B[0m=================================\n",
      "Name: subtract\n",
      "\n",
      "1\n",
      "==================================\u001B[1m Ai Message \u001B[0m==================================\n",
      "\n",
      "The result of subtracting 5 from 3 is 1.\n"
     ]
    }
   ],
   "execution_count": 78
  },
  {
   "metadata": {},
   "cell_type": "markdown",
   "source": "Now, we can see the current state is the end of our agent run.",
   "id": "bbae80423891542f"
  },
  {
   "metadata": {
    "ExecuteTime": {
     "end_time": "2025-10-27T13:24:14.292356Z",
     "start_time": "2025-10-27T13:24:14.287349Z"
    }
   },
   "cell_type": "code",
   "source": "graph.get_state({'configurable': {'thread_id': '1'}})",
   "id": "486c22151257e373",
   "outputs": [
    {
     "data": {
      "text/plain": [
       "StateSnapshot(values={'messages': [HumanMessage(content='subtract 5 from 3', additional_kwargs={}, response_metadata={}, id='9235968d-445a-42c5-acbf-249a260975a9'), AIMessage(content='', additional_kwargs={'refusal': None}, response_metadata={'token_usage': {'completion_tokens': 17, 'prompt_tokens': 161, 'total_tokens': 178, 'completion_tokens_details': {'accepted_prediction_tokens': 0, 'audio_tokens': 0, 'reasoning_tokens': 0, 'rejected_prediction_tokens': 0}, 'prompt_tokens_details': {'audio_tokens': 0, 'cached_tokens': 0}}, 'model_provider': 'openai', 'model_name': 'gpt-4o-2024-08-06', 'system_fingerprint': 'fp_65564d8ba5', 'id': 'chatcmpl-CVHUht0G5p8tP1Kva6JqIOgXwoAZI', 'service_tier': 'default', 'finish_reason': 'tool_calls', 'logprobs': None}, id='lc_run--46b084f7-80db-41da-b892-a36e7153ffc5-0', tool_calls=[{'name': 'subtract', 'args': {'a': 3, 'b': 2}, 'id': 'call_q2Iwcm3Thh8GM7FYFLSnQMro', 'type': 'tool_call'}], usage_metadata={'input_tokens': 161, 'output_tokens': 17, 'total_tokens': 178, 'input_token_details': {'audio': 0, 'cache_read': 0}, 'output_token_details': {'audio': 0, 'reasoning': 0}}), ToolMessage(content='1', name='subtract', id='b281ccc4-f0be-45bc-8573-750ab6797e93', tool_call_id='call_q2Iwcm3Thh8GM7FYFLSnQMro'), AIMessage(content='The result of subtracting 5 from 3 is 1.', additional_kwargs={'refusal': None}, response_metadata={'token_usage': {'completion_tokens': 15, 'prompt_tokens': 186, 'total_tokens': 201, 'completion_tokens_details': {'accepted_prediction_tokens': 0, 'audio_tokens': 0, 'reasoning_tokens': 0, 'rejected_prediction_tokens': 0}, 'prompt_tokens_details': {'audio_tokens': 0, 'cached_tokens': 0}}, 'model_provider': 'openai', 'model_name': 'gpt-4o-2024-08-06', 'system_fingerprint': 'fp_65564d8ba5', 'id': 'chatcmpl-CVHUlQUg9gS71UHHZ24byAdgFi8EB', 'service_tier': 'default', 'finish_reason': 'stop', 'logprobs': None}, id='lc_run--52e8e40a-1afc-4c02-b580-b854a7e7760d-0', usage_metadata={'input_tokens': 186, 'output_tokens': 15, 'total_tokens': 201, 'input_token_details': {'audio': 0, 'cache_read': 0}, 'output_token_details': {'audio': 0, 'reasoning': 0}})]}, next=(), config={'configurable': {'thread_id': '1', 'checkpoint_ns': '', 'checkpoint_id': '1f0b3383-b4ac-6f9d-8003-baa03f3e7fff'}}, metadata={'source': 'loop', 'step': 3, 'parents': {}}, created_at='2025-10-27T13:24:14.278441+00:00', parent_config={'configurable': {'thread_id': '1', 'checkpoint_ns': '', 'checkpoint_id': '1f0b3383-acdd-6258-8002-28092b2f547c'}}, tasks=(), interrupts=())"
      ]
     },
     "execution_count": 79,
     "metadata": {},
     "output_type": "execute_result"
    }
   ],
   "execution_count": 79
  },
  {
   "metadata": {},
   "cell_type": "markdown",
   "source": [
    "### Time travel with LangGraph API\n",
    "\n",
    "**⚠️ Notice**\n",
    "\n",
    "Since filming these videos, we've updated Studio so that it can now be run locally and accessed through your browser. This is the preferred way to run Studio instead of using the Desktop App shown in the video. It is now called _LangSmith Studio_ instead of _LangGraph Studio_. Detailed setup instructions are available in the \"Getting Setup\" guide at the start of the course. You can find a description of Studio [here](https://docs.langchain.com/langsmith/studio), and specific details for local deployment [here](https://docs.langchain.com/langsmith/quick-start-studio#local-development-server).  \n",
    "To start the local development server, run the following command in your terminal in the `/studio` directory in this module:\n",
    "\n",
    "```\n",
    "langgraph dev\n",
    "```\n",
    "\n",
    "You should see the following output:\n",
    "```\n",
    "- 🚀 API: http://127.0.0.1:2024\n",
    "- 🎨 Studio UI: https://smith.langchain.com/studio/?baseUrl=http://127.0.0.1:2024\n",
    "- 📚 API Docs: http://127.0.0.1:2024/docs\n",
    "```\n",
    "\n",
    "Open your browser and navigate to the **Studio UI** URL shown above.\n",
    "\n",
    "We connect to it via the SDK and show how the LangGraph API [supports time travel](https://langchain-ai.github.io/langgraph/cloud/how-tos/human_in_the_loop_time_travel/#initial-invocation). "
   ],
   "id": "24b604c32609ec6b"
  },
  {
   "metadata": {
    "ExecuteTime": {
     "end_time": "2025-10-27T13:24:14.317520Z",
     "start_time": "2025-10-27T13:24:14.312254Z"
    }
   },
   "cell_type": "code",
   "source": [
    "if 'google.colab' in str(get_ipython()):\n",
    "    raise Exception(\"Unfortunately LangGraph Studio is currently not supported on Google Colab\")"
   ],
   "id": "c71756723e0b6db1",
   "outputs": [],
   "execution_count": 80
  },
  {
   "metadata": {
    "ExecuteTime": {
     "end_time": "2025-10-27T13:24:14.622609Z",
     "start_time": "2025-10-27T13:24:14.324018Z"
    }
   },
   "cell_type": "code",
   "source": [
    "from langgraph_sdk import get_client\n",
    "client = get_client(url=\"http://127.0.0.1:2024\")"
   ],
   "id": "4bf23011512af4a6",
   "outputs": [],
   "execution_count": 81
  },
  {
   "metadata": {},
   "cell_type": "markdown",
   "source": [
    "#### Re-playing \n",
    "\n",
    "Let's run our agent streaming `updates` to the state of the graph after each node is called."
   ],
   "id": "5b53597291f74332"
  },
  {
   "metadata": {
    "ExecuteTime": {
     "end_time": "2025-10-27T13:24:16.241905Z",
     "start_time": "2025-10-27T13:24:14.626257Z"
    }
   },
   "cell_type": "code",
   "source": [
    "initial_input = {\"messages\": HumanMessage(content=\"subtract 2 from 3\")}\n",
    "thread = await client.threads.create()\n",
    "async for chunk in client.runs.stream(\n",
    "    thread[\"thread_id\"],\n",
    "    assistant_id = \"agent\",\n",
    "    input=initial_input,\n",
    "    stream_mode=\"updates\",\n",
    "):\n",
    "    if chunk.data:\n",
    "        assisant_node = chunk.data.get('assistant', {}).get('messages', [])\n",
    "        tool_node = chunk.data.get('tools', {}).get('messages', [])\n",
    "        if assisant_node:\n",
    "            print(\"-\" * 20+\"Assistant Node\"+\"-\" * 20)\n",
    "            print(assisant_node[-1])\n",
    "        elif tool_node:\n",
    "            print(\"-\" * 20+\"Tools Node\"+\"-\" * 20)\n",
    "            print(tool_node[-1])"
   ],
   "id": "95c4eaae88017239",
   "outputs": [
    {
     "name": "stdout",
     "output_type": "stream",
     "text": [
      "--------------------Assistant Node--------------------\n",
      "{'content': 'The result of subtracting 2 from 3 is 1.', 'additional_kwargs': {'refusal': None}, 'response_metadata': {'token_usage': {'completion_tokens': 15, 'prompt_tokens': 134, 'total_tokens': 149, 'completion_tokens_details': {'accepted_prediction_tokens': 0, 'audio_tokens': 0, 'reasoning_tokens': 0, 'rejected_prediction_tokens': 0}, 'prompt_tokens_details': {'audio_tokens': 0, 'cached_tokens': 0}}, 'model_provider': 'openai', 'model_name': 'gpt-4o-2024-08-06', 'system_fingerprint': 'fp_65564d8ba5', 'id': 'chatcmpl-CVHUnazJnXGWcP8YBr4NUmZG6jst6', 'service_tier': 'default', 'finish_reason': 'stop', 'logprobs': None}, 'type': 'ai', 'name': None, 'id': 'lc_run--26ed492d-a770-477e-a650-87e7411714cf-0', 'tool_calls': [], 'invalid_tool_calls': [], 'usage_metadata': {'input_tokens': 134, 'output_tokens': 15, 'total_tokens': 149, 'input_token_details': {'audio': 0, 'cache_read': 0}, 'output_token_details': {'audio': 0, 'reasoning': 0}}}\n"
     ]
    }
   ],
   "execution_count": 82
  },
  {
   "metadata": {},
   "cell_type": "markdown",
   "source": [
    "Now, let's look at **replaying** from a specified checkpoint. \n",
    "\n",
    "We simply need to pass the `checkpoint_id`."
   ],
   "id": "6ef78b210cf3e32c"
  },
  {
   "metadata": {
    "ExecuteTime": {
     "end_time": "2025-10-27T13:24:16.258947Z",
     "start_time": "2025-10-27T13:24:16.246301Z"
    }
   },
   "cell_type": "code",
   "source": [
    "states = await client.threads.get_history(thread['thread_id'])\n",
    "to_replay = states[-2]\n",
    "to_replay"
   ],
   "id": "68c5367266430a08",
   "outputs": [
    {
     "data": {
      "text/plain": [
       "{'values': {'messages': [{'content': 'subtract 2 from 3',\n",
       "    'additional_kwargs': {},\n",
       "    'response_metadata': {},\n",
       "    'type': 'human',\n",
       "    'name': None,\n",
       "    'id': '8baa0810-6b63-4460-ac95-86ae846ab52b'}]},\n",
       " 'next': ['assistant'],\n",
       " 'tasks': [{'id': '3aa21815-4024-b617-da6e-335d9a20bf8f',\n",
       "   'name': 'assistant',\n",
       "   'path': ['__pregel_pull', 'assistant'],\n",
       "   'error': None,\n",
       "   'interrupts': [],\n",
       "   'checkpoint': None,\n",
       "   'state': None,\n",
       "   'result': {'messages': [{'content': 'The result of subtracting 2 from 3 is 1.',\n",
       "      'additional_kwargs': {'refusal': None},\n",
       "      'response_metadata': {'token_usage': {'completion_tokens': 15,\n",
       "        'prompt_tokens': 134,\n",
       "        'total_tokens': 149,\n",
       "        'completion_tokens_details': {'accepted_prediction_tokens': 0,\n",
       "         'audio_tokens': 0,\n",
       "         'reasoning_tokens': 0,\n",
       "         'rejected_prediction_tokens': 0},\n",
       "        'prompt_tokens_details': {'audio_tokens': 0, 'cached_tokens': 0}},\n",
       "       'model_provider': 'openai',\n",
       "       'model_name': 'gpt-4o-2024-08-06',\n",
       "       'system_fingerprint': 'fp_65564d8ba5',\n",
       "       'id': 'chatcmpl-CVHUnazJnXGWcP8YBr4NUmZG6jst6',\n",
       "       'service_tier': 'default',\n",
       "       'finish_reason': 'stop',\n",
       "       'logprobs': None},\n",
       "      'type': 'ai',\n",
       "      'name': None,\n",
       "      'id': 'lc_run--26ed492d-a770-477e-a650-87e7411714cf-0',\n",
       "      'tool_calls': [],\n",
       "      'invalid_tool_calls': [],\n",
       "      'usage_metadata': {'input_tokens': 134,\n",
       "       'output_tokens': 15,\n",
       "       'total_tokens': 149,\n",
       "       'input_token_details': {'audio': 0, 'cache_read': 0},\n",
       "       'output_token_details': {'audio': 0, 'reasoning': 0}}}]}}],\n",
       " 'metadata': {'langgraph_auth_user': None,\n",
       "  'langgraph_auth_user_id': '',\n",
       "  'langgraph_auth_permissions': [],\n",
       "  'langgraph_request_id': 'bdb2611a-8efd-48f3-9c34-f29532c13d60',\n",
       "  'graph_id': 'agent',\n",
       "  'assistant_id': 'fe096781-5601-53d2-b2f6-0d3403f7e9ca',\n",
       "  'user_id': '',\n",
       "  'created_by': 'system',\n",
       "  'run_attempt': 1,\n",
       "  'langgraph_version': '1.0.1',\n",
       "  'langgraph_api_version': '0.4.39',\n",
       "  'langgraph_plan': 'developer',\n",
       "  'langgraph_host': 'self-hosted',\n",
       "  'langgraph_api_url': 'http://127.0.0.1:2024',\n",
       "  'run_id': '019a25d7-3eae-77db-8f63-2c631bea9a0d',\n",
       "  'thread_id': '091a95ac-a255-4bf8-86a9-829d180bd823',\n",
       "  'source': 'loop',\n",
       "  'step': 0,\n",
       "  'parents': {}},\n",
       " 'created_at': '2025-10-27T13:24:15.392192+00:00',\n",
       " 'checkpoint': {'checkpoint_id': '1f0b3383-bf4c-6185-8000-a707318724dd',\n",
       "  'thread_id': '091a95ac-a255-4bf8-86a9-829d180bd823',\n",
       "  'checkpoint_ns': ''},\n",
       " 'parent_checkpoint': {'checkpoint_id': '1f0b3383-bf4c-6184-bfff-3b95064d4fac',\n",
       "  'thread_id': '091a95ac-a255-4bf8-86a9-829d180bd823',\n",
       "  'checkpoint_ns': ''},\n",
       " 'interrupts': [],\n",
       " 'checkpoint_id': '1f0b3383-bf4c-6185-8000-a707318724dd',\n",
       " 'parent_checkpoint_id': '1f0b3383-bf4c-6184-bfff-3b95064d4fac'}"
      ]
     },
     "execution_count": 83,
     "metadata": {},
     "output_type": "execute_result"
    }
   ],
   "execution_count": 83
  },
  {
   "metadata": {},
   "cell_type": "markdown",
   "source": "Let's stream with `stream_mode=\"values\"` to see the full state at every node as we replay. ",
   "id": "cd465baa306ea9a5"
  },
  {
   "metadata": {
    "ExecuteTime": {
     "end_time": "2025-10-27T13:24:17.854951Z",
     "start_time": "2025-10-27T13:24:16.266031Z"
    }
   },
   "cell_type": "code",
   "source": [
    "async for chunk in client.runs.stream(\n",
    "    thread[\"thread_id\"],\n",
    "    assistant_id=\"agent\",\n",
    "    input=None,\n",
    "    stream_mode=\"values\",\n",
    "    checkpoint_id=to_replay['checkpoint_id']\n",
    "):      \n",
    "    print(f\"Receiving new event of type: {chunk.event}...\")\n",
    "    print(chunk.data)\n",
    "    print(\"\\n\\n\")"
   ],
   "id": "cacd663b7dda398d",
   "outputs": [
    {
     "name": "stdout",
     "output_type": "stream",
     "text": [
      "Receiving new event of type: metadata...\n",
      "{'run_id': '019a25d7-450a-720e-b5ae-16d512c524a2', 'attempt': 1}\n",
      "\n",
      "\n",
      "\n",
      "Receiving new event of type: values...\n",
      "{'messages': [{'content': 'subtract 2 from 3', 'additional_kwargs': {}, 'response_metadata': {}, 'type': 'human', 'name': None, 'id': '8baa0810-6b63-4460-ac95-86ae846ab52b'}]}\n",
      "\n",
      "\n",
      "\n",
      "Receiving new event of type: values...\n",
      "{'messages': [{'content': 'subtract 2 from 3', 'additional_kwargs': {}, 'response_metadata': {}, 'type': 'human', 'name': None, 'id': '8baa0810-6b63-4460-ac95-86ae846ab52b'}, {'content': 'The result of subtracting 2 from 3 is 1.', 'additional_kwargs': {'refusal': None}, 'response_metadata': {'token_usage': {'completion_tokens': 15, 'prompt_tokens': 134, 'total_tokens': 149, 'completion_tokens_details': {'accepted_prediction_tokens': 0, 'audio_tokens': 0, 'reasoning_tokens': 0, 'rejected_prediction_tokens': 0}, 'prompt_tokens_details': {'audio_tokens': 0, 'cached_tokens': 0}}, 'model_provider': 'openai', 'model_name': 'gpt-4o-2024-08-06', 'system_fingerprint': 'fp_65564d8ba5', 'id': 'chatcmpl-CVHUoCORGCJ5yhvzeY7x2nlLIXoXO', 'service_tier': 'default', 'finish_reason': 'stop', 'logprobs': None}, 'type': 'ai', 'name': None, 'id': 'lc_run--22b16c7d-4497-4b4c-a070-23df159c63cd-0', 'tool_calls': [], 'invalid_tool_calls': [], 'usage_metadata': {'input_tokens': 134, 'output_tokens': 15, 'total_tokens': 149, 'input_token_details': {'audio': 0, 'cache_read': 0}, 'output_token_details': {'audio': 0, 'reasoning': 0}}}]}\n",
      "\n",
      "\n",
      "\n"
     ]
    }
   ],
   "execution_count": 84
  },
  {
   "metadata": {},
   "cell_type": "markdown",
   "source": "We can all view this as streaming only `updates` to state made by the nodes that we reply.",
   "id": "b35961c438657298"
  },
  {
   "metadata": {
    "ExecuteTime": {
     "end_time": "2025-10-27T13:24:19.199176Z",
     "start_time": "2025-10-27T13:24:17.861217Z"
    }
   },
   "cell_type": "code",
   "source": [
    "async for chunk in client.runs.stream(\n",
    "    thread[\"thread_id\"],\n",
    "    assistant_id=\"agent\",\n",
    "    input=None,\n",
    "    stream_mode=\"updates\",\n",
    "    checkpoint_id=to_replay['checkpoint_id']\n",
    "):\n",
    "    if chunk.data:\n",
    "        assisant_node = chunk.data.get('assistant', {}).get('messages', [])\n",
    "        tool_node = chunk.data.get('tools', {}).get('messages', [])\n",
    "        if assisant_node:\n",
    "            print(\"-\" * 20+\"Assistant Node\"+\"-\" * 20)\n",
    "            print(assisant_node[-1])\n",
    "        elif tool_node:\n",
    "            print(\"-\" * 20+\"Tools Node\"+\"-\" * 20)\n",
    "            print(tool_node[-1])"
   ],
   "id": "a70cb958722f948a",
   "outputs": [
    {
     "name": "stdout",
     "output_type": "stream",
     "text": [
      "--------------------Assistant Node--------------------\n",
      "{'content': 'The result of subtracting 2 from 3 is 1.', 'additional_kwargs': {'refusal': None}, 'response_metadata': {'token_usage': {'completion_tokens': 15, 'prompt_tokens': 134, 'total_tokens': 149, 'completion_tokens_details': {'accepted_prediction_tokens': 0, 'audio_tokens': 0, 'reasoning_tokens': 0, 'rejected_prediction_tokens': 0}, 'prompt_tokens_details': {'audio_tokens': 0, 'cached_tokens': 0}}, 'model_provider': 'openai', 'model_name': 'gpt-4o-2024-08-06', 'system_fingerprint': 'fp_65564d8ba5', 'id': 'chatcmpl-CVHUq90HahvSBXYs2xigonshdx3t9', 'service_tier': 'default', 'finish_reason': 'stop', 'logprobs': None}, 'type': 'ai', 'name': None, 'id': 'lc_run--06887530-3455-48fa-84be-e357a7c856cb-0', 'tool_calls': [], 'invalid_tool_calls': [], 'usage_metadata': {'input_tokens': 134, 'output_tokens': 15, 'total_tokens': 149, 'input_token_details': {'audio': 0, 'cache_read': 0}, 'output_token_details': {'audio': 0, 'reasoning': 0}}}\n"
     ]
    }
   ],
   "execution_count": 85
  },
  {
   "metadata": {},
   "cell_type": "markdown",
   "source": [
    "#### Forking\n",
    "\n",
    "Now, let's look at forking.\n",
    "\n",
    "Let's get the same step as we worked with above, the human input.\n",
    "\n",
    "Let's create a new thread with our agent."
   ],
   "id": "a54db1a0c607ee87"
  },
  {
   "metadata": {
    "ExecuteTime": {
     "end_time": "2025-10-27T13:24:21.744866Z",
     "start_time": "2025-10-27T13:24:19.237332Z"
    }
   },
   "cell_type": "code",
   "source": [
    "initial_input = {\"messages\": HumanMessage(content=\"subtract 2 from 3\")}\n",
    "thread = await client.threads.create()\n",
    "async for chunk in client.runs.stream(\n",
    "    thread[\"thread_id\"],\n",
    "    assistant_id=\"agent\",\n",
    "    input=initial_input,\n",
    "    stream_mode=\"updates\",\n",
    "):\n",
    "    if chunk.data:\n",
    "        assisant_node = chunk.data.get('assistant', {}).get('messages', [])\n",
    "        tool_node = chunk.data.get('tools', {}).get('messages', [])\n",
    "        if assisant_node:\n",
    "            print(\"-\" * 20+\"Assistant Node\"+\"-\" * 20)\n",
    "            print(assisant_node[-1])\n",
    "        elif tool_node:\n",
    "            print(\"-\" * 20+\"Tools Node\"+\"-\" * 20)\n",
    "            print(tool_node[-1])"
   ],
   "id": "c3966d7cf8aca57d",
   "outputs": [
    {
     "name": "stdout",
     "output_type": "stream",
     "text": [
      "--------------------Assistant Node--------------------\n",
      "{'content': 'To subtract 2 from 3, simply calculate \\\\(3 - 2\\\\).\\n\\n\\\\[ 3 - 2 = 1 \\\\]\\n\\nThe result is 1.', 'additional_kwargs': {'refusal': None}, 'response_metadata': {'token_usage': {'completion_tokens': 35, 'prompt_tokens': 134, 'total_tokens': 169, 'completion_tokens_details': {'accepted_prediction_tokens': 0, 'audio_tokens': 0, 'reasoning_tokens': 0, 'rejected_prediction_tokens': 0}, 'prompt_tokens_details': {'audio_tokens': 0, 'cached_tokens': 0}}, 'model_provider': 'openai', 'model_name': 'gpt-4o-2024-08-06', 'system_fingerprint': 'fp_65564d8ba5', 'id': 'chatcmpl-CVHUrBWhamxwtdSequ7QPyrwKg7AR', 'service_tier': 'default', 'finish_reason': 'stop', 'logprobs': None}, 'type': 'ai', 'name': None, 'id': 'lc_run--f0d139f6-6257-470a-abf8-bdb17b430776-0', 'tool_calls': [], 'invalid_tool_calls': [], 'usage_metadata': {'input_tokens': 134, 'output_tokens': 35, 'total_tokens': 169, 'input_token_details': {'audio': 0, 'cache_read': 0}, 'output_token_details': {'audio': 0, 'reasoning': 0}}}\n"
     ]
    }
   ],
   "execution_count": 86
  },
  {
   "metadata": {
    "ExecuteTime": {
     "end_time": "2025-10-27T13:24:21.762993Z",
     "start_time": "2025-10-27T13:24:21.750290Z"
    }
   },
   "cell_type": "code",
   "source": [
    "states = await client.threads.get_history(thread['thread_id'])\n",
    "to_fork = states[-2]\n",
    "to_fork['values']"
   ],
   "id": "44752c5ad6c5b277",
   "outputs": [
    {
     "data": {
      "text/plain": [
       "{'messages': [{'content': 'subtract 2 from 3',\n",
       "   'additional_kwargs': {},\n",
       "   'response_metadata': {},\n",
       "   'type': 'human',\n",
       "   'name': None,\n",
       "   'id': '34b49c3c-9fa9-429d-959f-947798e0960e'}]}"
      ]
     },
     "execution_count": 87,
     "metadata": {},
     "output_type": "execute_result"
    }
   ],
   "execution_count": 87
  },
  {
   "metadata": {
    "ExecuteTime": {
     "end_time": "2025-10-27T13:24:21.821697Z",
     "start_time": "2025-10-27T13:24:21.814756Z"
    }
   },
   "cell_type": "code",
   "source": "to_fork['values']['messages'][0]['id']",
   "id": "2eb7e539f921ce4c",
   "outputs": [
    {
     "data": {
      "text/plain": [
       "'34b49c3c-9fa9-429d-959f-947798e0960e'"
      ]
     },
     "execution_count": 88,
     "metadata": {},
     "output_type": "execute_result"
    }
   ],
   "execution_count": 88
  },
  {
   "metadata": {
    "ExecuteTime": {
     "end_time": "2025-10-27T13:24:21.882188Z",
     "start_time": "2025-10-27T13:24:21.875482Z"
    }
   },
   "cell_type": "code",
   "source": "to_fork['next']",
   "id": "4754485ef98528a2",
   "outputs": [
    {
     "data": {
      "text/plain": [
       "['assistant']"
      ]
     },
     "execution_count": 89,
     "metadata": {},
     "output_type": "execute_result"
    }
   ],
   "execution_count": 89
  },
  {
   "metadata": {
    "ExecuteTime": {
     "end_time": "2025-10-27T13:24:21.918588Z",
     "start_time": "2025-10-27T13:24:21.912030Z"
    }
   },
   "cell_type": "code",
   "source": "to_fork['checkpoint_id']",
   "id": "1acda0ea95e4a8d3",
   "outputs": [
    {
     "data": {
      "text/plain": [
       "'1f0b3383-ea8d-64a1-8000-ccc60dd718a8'"
      ]
     },
     "execution_count": 90,
     "metadata": {},
     "output_type": "execute_result"
    }
   ],
   "execution_count": 90
  },
  {
   "metadata": {},
   "cell_type": "markdown",
   "source": [
    "Let's edit the state.\n",
    "\n",
    "Remember how our reducer on `messages` works: \n",
    "\n",
    "* It will append, unless we supply a message ID.\n",
    "* We supply the message ID to overwrite the message, rather than appending to state!"
   ],
   "id": "4fd4b9a315a2044d"
  },
  {
   "metadata": {
    "ExecuteTime": {
     "end_time": "2025-10-27T13:24:21.949271Z",
     "start_time": "2025-10-27T13:24:21.934795Z"
    }
   },
   "cell_type": "code",
   "source": [
    "forked_input = {\"messages\": HumanMessage(content=\"subtract 3 from 3\",\n",
    "                                         id=to_fork['values']['messages'][0]['id'])}\n",
    "\n",
    "forked_config = await client.threads.update_state(\n",
    "    thread[\"thread_id\"],\n",
    "    forked_input,\n",
    "    checkpoint_id=to_fork['checkpoint_id']\n",
    ")"
   ],
   "id": "39969297ebb14bb9",
   "outputs": [],
   "execution_count": 91
  },
  {
   "metadata": {
    "ExecuteTime": {
     "end_time": "2025-10-27T13:24:21.961987Z",
     "start_time": "2025-10-27T13:24:21.956164Z"
    }
   },
   "cell_type": "code",
   "source": "forked_config",
   "id": "b7642808f5634476",
   "outputs": [
    {
     "data": {
      "text/plain": [
       "{'checkpoint': {'thread_id': '17650882-dc27-42c4-9922-b43ca7dd2eed',\n",
       "  'checkpoint_ns': '',\n",
       "  'checkpoint_id': '1f0b3383-fdb1-63f5-8001-291aa2df58d5'},\n",
       " 'configurable': {'thread_id': '17650882-dc27-42c4-9922-b43ca7dd2eed',\n",
       "  'checkpoint_ns': '',\n",
       "  'checkpoint_id': '1f0b3383-fdb1-63f5-8001-291aa2df58d5'},\n",
       " 'checkpoint_id': '1f0b3383-fdb1-63f5-8001-291aa2df58d5'}"
      ]
     },
     "execution_count": 92,
     "metadata": {},
     "output_type": "execute_result"
    }
   ],
   "execution_count": 92
  },
  {
   "metadata": {
    "ExecuteTime": {
     "end_time": "2025-10-27T13:24:21.990724Z",
     "start_time": "2025-10-27T13:24:21.976922Z"
    }
   },
   "cell_type": "code",
   "source": [
    "states = await client.threads.get_history(thread['thread_id'])\n",
    "states[0]"
   ],
   "id": "322a0e5c9a180c74",
   "outputs": [
    {
     "data": {
      "text/plain": [
       "{'values': {'messages': [{'content': 'subtract 3 from 3',\n",
       "    'additional_kwargs': {},\n",
       "    'response_metadata': {},\n",
       "    'type': 'human',\n",
       "    'name': None,\n",
       "    'id': '34b49c3c-9fa9-429d-959f-947798e0960e'},\n",
       "   {'content': 'To subtract 2 from 3, simply calculate \\\\(3 - 2\\\\).\\n\\n\\\\[ 3 - 2 = 1 \\\\]\\n\\nThe result is 1.',\n",
       "    'additional_kwargs': {'refusal': None},\n",
       "    'response_metadata': {'token_usage': {'completion_tokens': 35,\n",
       "      'prompt_tokens': 134,\n",
       "      'total_tokens': 169,\n",
       "      'completion_tokens_details': {'accepted_prediction_tokens': 0,\n",
       "       'audio_tokens': 0,\n",
       "       'reasoning_tokens': 0,\n",
       "       'rejected_prediction_tokens': 0},\n",
       "      'prompt_tokens_details': {'audio_tokens': 0, 'cached_tokens': 0}},\n",
       "     'model_provider': 'openai',\n",
       "     'model_name': 'gpt-4o-2024-08-06',\n",
       "     'system_fingerprint': 'fp_65564d8ba5',\n",
       "     'id': 'chatcmpl-CVHUrBWhamxwtdSequ7QPyrwKg7AR',\n",
       "     'service_tier': 'default',\n",
       "     'finish_reason': 'stop',\n",
       "     'logprobs': None},\n",
       "    'type': 'ai',\n",
       "    'name': None,\n",
       "    'id': 'lc_run--f0d139f6-6257-470a-abf8-bdb17b430776-0',\n",
       "    'tool_calls': [],\n",
       "    'invalid_tool_calls': [],\n",
       "    'usage_metadata': {'input_tokens': 134,\n",
       "     'output_tokens': 35,\n",
       "     'total_tokens': 169,\n",
       "     'input_token_details': {'audio': 0, 'cache_read': 0},\n",
       "     'output_token_details': {'audio': 0, 'reasoning': 0}}}]},\n",
       " 'next': [],\n",
       " 'tasks': [],\n",
       " 'metadata': {'graph_id': 'agent',\n",
       "  'thread_id': '17650882-dc27-42c4-9922-b43ca7dd2eed',\n",
       "  'checkpoint_id': '1f0b3383-ea8d-64a1-8000-ccc60dd718a8',\n",
       "  'checkpoint_ns': '',\n",
       "  'source': 'update',\n",
       "  'step': 1,\n",
       "  'parents': {}},\n",
       " 'created_at': '2025-10-27T13:24:21.934795+00:00',\n",
       " 'checkpoint': {'checkpoint_id': '1f0b3383-fdb1-63f5-8001-291aa2df58d5',\n",
       "  'thread_id': '17650882-dc27-42c4-9922-b43ca7dd2eed',\n",
       "  'checkpoint_ns': ''},\n",
       " 'parent_checkpoint': {'checkpoint_id': '1f0b3383-ea8d-64a1-8000-ccc60dd718a8',\n",
       "  'thread_id': '17650882-dc27-42c4-9922-b43ca7dd2eed',\n",
       "  'checkpoint_ns': ''},\n",
       " 'interrupts': [],\n",
       " 'checkpoint_id': '1f0b3383-fdb1-63f5-8001-291aa2df58d5',\n",
       " 'parent_checkpoint_id': '1f0b3383-ea8d-64a1-8000-ccc60dd718a8'}"
      ]
     },
     "execution_count": 93,
     "metadata": {},
     "output_type": "execute_result"
    }
   ],
   "execution_count": 93
  },
  {
   "metadata": {},
   "cell_type": "markdown",
   "source": "To rerun, we pass in the `checkpoint_id`.",
   "id": "c4d7b7241d8eab22"
  },
  {
   "metadata": {
    "ExecuteTime": {
     "end_time": "2025-10-27T13:24:22.926309Z",
     "start_time": "2025-10-27T13:24:21.998279Z"
    }
   },
   "cell_type": "code",
   "source": [
    "async for chunk in client.runs.stream(\n",
    "    thread[\"thread_id\"],\n",
    "    assistant_id=\"agent\",\n",
    "    input=None,\n",
    "    stream_mode=\"updates\",\n",
    "    checkpoint_id=forked_config['checkpoint_id']\n",
    "):\n",
    "    if chunk.data:\n",
    "        assisant_node = chunk.data.get('assistant', {}).get('messages', [])\n",
    "        tool_node = chunk.data.get('tools', {}).get('messages', [])\n",
    "        if assisant_node:\n",
    "            print(\"-\" * 20+\"Assistant Node\"+\"-\" * 20)\n",
    "            print(assisant_node[-1])\n",
    "        elif tool_node:\n",
    "            print(\"-\" * 20+\"Tools Node\"+\"-\" * 20)\n",
    "            print(tool_node[-1])"
   ],
   "id": "52415ae83bf6a368",
   "outputs": [],
   "execution_count": 94
  },
  {
   "metadata": {},
   "cell_type": "markdown",
   "source": [
    "### LangGraph Studio\n",
    "\n",
    "Let's look at forking in the Studio UI with our `agent`, which uses `module-1/studio/agent.py` set in `module-1/studio/langgraph.json`."
   ],
   "id": "1b90cf420a1ed8ee"
  }
 ],
 "metadata": {},
 "nbformat": 4,
 "nbformat_minor": 5
}
